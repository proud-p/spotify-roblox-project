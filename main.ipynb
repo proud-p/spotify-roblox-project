{
 "cells": [
  {
   "cell_type": "markdown",
   "metadata": {},
   "source": [
    "# Spotify Roblox API Project"
   ]
  },
  {
   "cell_type": "code",
   "execution_count": null,
   "metadata": {},
   "outputs": [],
   "source": [
    "import configparser\n",
    "import spotipy\n",
    "from utils.auth_init import auth_init\n",
    "import utils.spotify_functions as spotify_functions\n",
    "import utils.roblox_functions as roblox_functions\n",
    "import utils\n"
   ]
  },
  {
   "cell_type": "code",
   "execution_count": 2,
   "metadata": {},
   "outputs": [
    {
     "name": "stdout",
     "output_type": "stream",
     "text": [
      "auth/spotify_keys.ini already exists.\n",
      "auth/roblox_keys.ini already exists.\n"
     ]
    }
   ],
   "source": [
    "# Check key folder and if does not exist create empty templates for keys\n",
    "auth_init()"
   ]
  },
  {
   "cell_type": "markdown",
   "metadata": {},
   "source": [
    "## Code to Create Spotify Playlist Based on User"
   ]
  },
  {
   "cell_type": "code",
   "execution_count": null,
   "metadata": {},
   "outputs": [],
   "source": [
    "import robloxpy\n",
    "import requests\n",
    "import webbrowser\n",
    "import spotipy\n",
    "import spotipy.util as util\n",
    "import json\n",
    "import base64\n",
    "from roblox import Client\n",
    "import roblox.thumbnails as thumbnail\n",
    "import asyncio\n",
    "from utils.roblox_functions import *\n",
    "import utils.spotify_functions as spotify_functions\n",
    "import spotipy\n",
    "import pandas as pd \n",
    "from spotipy.oauth2 import SpotifyClientCredentials\n"
   ]
  },
  {
   "cell_type": "code",
   "execution_count": null,
   "metadata": {},
   "outputs": [],
   "source": [
    "# Get Spotify Authentication\n",
    "keys_path = \"auth/spotify_keys.ini\"\n",
    "spotify_auth = spotify_functions.SpotifyAuth(keys_path)\n",
    "\n",
    "# Authenticate Spotify and get credentials manager as sp\n",
    "client_credentials_manager = SpotifyClientCredentials(spotify_auth.client_id, spotify_auth.client_secret)\n",
    "sp = spotipy.Spotify(client_credentials_manager=client_credentials_manager)\n",
    "\n",
    "# Spotify scopes (INCLUDE ugc-image-upload)\n",
    "scope = \"user-read-private user-read-playback-state user-modify-playback-state playlist-modify-public playlist-modify-private ugc-image-upload\"\n",
    "token = util.prompt_for_user_token(spotify_auth.username, scope, client_id=spotify_auth.client_id, client_secret=spotify_auth.client_secret, redirect_uri=spotify_auth.redirectURI)\n",
    "\n",
    "sp = spotipy.Spotify(auth=token)"
   ]
  },
  {
   "cell_type": "code",
   "execution_count": null,
   "metadata": {},
   "outputs": [
    {
     "name": "stdout",
     "output_type": "stream",
     "text": [
      "ID: 7520736841\n"
     ]
    }
   ],
   "source": [
    "# Read Roblox Cookie to get specific user\n",
    "RobloxAuth = RobloxAuthConfig('auth/roblox_keys.ini')\n",
    "cookie = RobloxAuth.cookie\n",
    "\n",
    "# Setting Roblox Cookie to Client\n",
    "client = Client(cookie)\n",
    "\n",
    "async def main():\n",
    "    user = await client.get_authenticated_user()\n",
    "    # Test to see if you are in\n",
    "    # *** ID CAN BE PRINTED: it is found in Roblox profile URL***\n",
    "    print(\"ID:\", user.id)\n",
    "await main()"
   ]
  },
  {
   "cell_type": "code",
   "execution_count": null,
   "metadata": {},
   "outputs": [
    {
     "data": {
      "text/plain": [
       "[{'name': 'Roblox', 'id': 1},\n",
       " {'name': 'roblox_pro12163', 'id': 7418004099},\n",
       " {'name': 'RobloxRealAccount991', 'id': 7540027439},\n",
       " {'name': 'lukepukenow', 'id': 5033340271},\n",
       " {'name': '2019Squish', 'id': 4370141275},\n",
       " {'name': '19ewhospayzzz86', 'id': 7520073920},\n",
       " {'name': 'Zeph123911', 'id': 7526353872},\n",
       " {'name': 'roblox_556744', 'id': 3175414490},\n",
       " {'name': 'RobloxRobloxYT_1', 'id': 7148111849},\n",
       " {'name': 'Roblox0826135', 'id': 7531479514}]"
      ]
     },
     "execution_count": 7,
     "metadata": {},
     "output_type": "execute_result"
    }
   ],
   "source": [
    "# Input desired Roblox Username\n",
    "desired_name = \"WHATEVER NAME YOU WANT\"\n",
    "outputted_names = []\n",
    "\n",
    "async def main():\n",
    "    # Search the username and X results\n",
    "    users = client.user_search(desired_name, max_items =10)\n",
    "    async for user in users:\n",
    "        # Add to list\n",
    "        outputted_names.append(user.name)\n",
    "        outputted_names.append(user.id)\n",
    "        \n",
    "await main()\n",
    "\n",
    "formatted_names = []\n",
    "for i in range(0, len(outputted_names), 2):\n",
    "    # Format list to dictonary to access Name & ID\n",
    "    formatted_names.append({'name': outputted_names[i], 'id': outputted_names[i + 1]})\n",
    "\n",
    "formatted_names"
   ]
  },
  {
   "cell_type": "code",
   "execution_count": null,
   "metadata": {},
   "outputs": [
    {
     "name": "stdout",
     "output_type": "stream",
     "text": [
      "https://tr.rbxcdn.com/30DAY-Avatar-310966282D3529E36976BF6B07B1DC90-Png/420/420/Avatar/Png/noFilter\n"
     ]
    }
   ],
   "source": [
    "# Pick a user: this could be random but in this case its top result\n",
    "desired_user = formatted_names[0]\n",
    "user = await client.get_user(desired_user[\"id\"])\n",
    "# Get the avatar thumbnaill found on their profile\n",
    "user_thumbnails = await client.thumbnails.get_user_avatar_thumbnails(\n",
    "    users=[user],\n",
    "    type=thumbnail.AvatarThumbnailType.full_body,\n",
    "    size=(420, 420)\n",
    ")\n",
    "\n",
    "# Print the URL of user image\n",
    "if len(user_thumbnails) > 0:\n",
    "    user_thumbnail = user_thumbnails[0]\n",
    "    user_image = user_thumbnail.image_url\n",
    "    print('Url of user image:')\n",
    "    print(user_image)"
   ]
  },
  {
   "cell_type": "code",
   "execution_count": null,
   "metadata": {},
   "outputs": [],
   "source": [
    "# Search Spotify based on the Robloxians Username\n",
    "track_results = sp.search(q=desired_user[\"name\"], type=\"track\", limit = 10)\n",
    "# print(track_results)"
   ]
  },
  {
   "cell_type": "code",
   "execution_count": null,
   "metadata": {},
   "outputs": [
    {
     "data": {
      "text/html": [
       "<div>\n",
       "<style scoped>\n",
       "    .dataframe tbody tr th:only-of-type {\n",
       "        vertical-align: middle;\n",
       "    }\n",
       "\n",
       "    .dataframe tbody tr th {\n",
       "        vertical-align: top;\n",
       "    }\n",
       "\n",
       "    .dataframe thead th {\n",
       "        text-align: right;\n",
       "    }\n",
       "</style>\n",
       "<table border=\"1\" class=\"dataframe\">\n",
       "  <thead>\n",
       "    <tr style=\"text-align: right;\">\n",
       "      <th></th>\n",
       "      <th>song</th>\n",
       "      <th>artists</th>\n",
       "    </tr>\n",
       "  </thead>\n",
       "  <tbody>\n",
       "    <tr>\n",
       "      <th>0</th>\n",
       "      <td>Don't Call Me a Noob</td>\n",
       "      <td>Mr Miln</td>\n",
       "    </tr>\n",
       "    <tr>\n",
       "      <th>1</th>\n",
       "      <td>Skibidi Toilet</td>\n",
       "      <td>Lil Big Stack</td>\n",
       "    </tr>\n",
       "    <tr>\n",
       "      <th>2</th>\n",
       "      <td>Slaying in Roblox</td>\n",
       "      <td>Loginhdi</td>\n",
       "    </tr>\n",
       "    <tr>\n",
       "      <th>3</th>\n",
       "      <td>The Roblox Song</td>\n",
       "      <td>Lankybox</td>\n",
       "    </tr>\n",
       "    <tr>\n",
       "      <th>4</th>\n",
       "      <td>Roblox NEW DEATH SOUND Song</td>\n",
       "      <td>Misutra</td>\n",
       "    </tr>\n",
       "    <tr>\n",
       "      <th>5</th>\n",
       "      <td>Robloxian Struggles (Playing Without Robux)</td>\n",
       "      <td>Mr Miln</td>\n",
       "    </tr>\n",
       "    <tr>\n",
       "      <th>6</th>\n",
       "      <td>Relaxed Scene</td>\n",
       "      <td>James Clarke</td>\n",
       "    </tr>\n",
       "    <tr>\n",
       "      <th>7</th>\n",
       "      <td>Friday Theme</td>\n",
       "      <td>Uglyburger0</td>\n",
       "    </tr>\n",
       "    <tr>\n",
       "      <th>8</th>\n",
       "      <td>Monday Theme</td>\n",
       "      <td>Uglyburger0</td>\n",
       "    </tr>\n",
       "    <tr>\n",
       "      <th>9</th>\n",
       "      <td>Adopt Me! Night Theme</td>\n",
       "      <td>Club Unicorn</td>\n",
       "    </tr>\n",
       "  </tbody>\n",
       "</table>\n",
       "</div>"
      ],
      "text/plain": [
       "                                          song        artists\n",
       "0                         Don't Call Me a Noob        Mr Miln\n",
       "1                               Skibidi Toilet  Lil Big Stack\n",
       "2                            Slaying in Roblox       Loginhdi\n",
       "3                              The Roblox Song       Lankybox\n",
       "4                  Roblox NEW DEATH SOUND Song        Misutra\n",
       "5  Robloxian Struggles (Playing Without Robux)        Mr Miln\n",
       "6                                Relaxed Scene   James Clarke\n",
       "7                                 Friday Theme    Uglyburger0\n",
       "8                                 Monday Theme    Uglyburger0\n",
       "9                        Adopt Me! Night Theme   Club Unicorn"
      ]
     },
     "execution_count": 17,
     "metadata": {},
     "output_type": "execute_result"
    }
   ],
   "source": [
    "# function to clean dataframe in spotify_functions.py - takes in track results, clean into a nice dataframe\n",
    "clean_spotify_df = spotify_functions.spotify_tracks_to_df(track_results)\n",
    "clean_spotify_df"
   ]
  },
  {
   "cell_type": "markdown",
   "metadata": {},
   "source": [
    "## Code to Parse Roblox Lua"
   ]
  },
  {
   "cell_type": "code",
   "execution_count": null,
   "metadata": {},
   "outputs": [
    {
     "data": {
      "text/plain": [
       "['lua_scripts\\\\display_script.lua',\n",
       " 'lua_scripts\\\\parameter_classes.lua',\n",
       " 'lua_scripts\\\\ui_script.lua']"
      ]
     },
     "execution_count": 18,
     "metadata": {},
     "output_type": "execute_result"
    }
   ],
   "source": [
    "import glob\n",
    "\n",
    "# get all lua paths\n",
    "directory = 'lua_scripts/*'\n",
    "\n",
    "lua_file_paths = glob.glob(directory)\n",
    "lua_file_paths\n"
   ]
  },
  {
   "cell_type": "code",
   "execution_count": null,
   "metadata": {},
   "outputs": [
    {
     "name": "stdout",
     "output_type": "stream",
     "text": [
      "Matched artist: Artist 1, song: Song 1\n",
      "Matched artist: Artist 2, song: Song 2\n",
      "Matched artist: Artist 3, song: Song 3\n",
      "Matched artist: Artist 4, song: Song 4\n",
      "Matched artist: Artist 5, song: Song 5\n",
      "Matched artist: Artist 6, song: Song 6\n",
      "Matched artist: Artist 7, song: Song 7\n",
      "Matched artist: Artist 8, song: Song 8\n",
      "Matched artist: Artist 9, song: Song 9\n",
      "Matched artist: Artist 10, song: Song 10\n",
      "\n",
      "Modified Text:\n",
      "\n",
      "-- ParameterStart\n",
      "local data = {\n",
      "\t{artist = \"Mr Miln\", song = \"Don't Call Me a Noob\"},\n",
      "\t{artist = \"Lil Big Stack\", song = \"Skibidi Toilet\"},\n",
      "\t{artist = \"Loginhdi\", song = \"Slaying in Roblox\"},\n",
      "\t{artist = \"Lankybox\", song = \"The Roblox Song\"},\n",
      "\t{artist = \"Misutra\", song = \"Roblox NEW DEATH SOUND Song\"},\n",
      "\t{artist = \"Mr Miln\", song = \"Robloxian Struggles (Playing Without Robux)\"},\n",
      "\t{artist = \"James Clarke\", song = \"Relaxed Scene\"},\n",
      "\t{artist = \"Uglyburger0\", song = \"Friday Theme\"},\n",
      "\t{artist = \"Uglyburger0\", song = \"Monday Theme\"},\n",
      "\t{artist = \"Club Unicorn\", song = \"Adopt Me! Night Theme\"},\n",
      "}\n",
      "-- ParameterEnd\n"
     ]
    }
   ],
   "source": [
    "import re\n",
    "# can move this to script file but leaving it hear for you to see regex\n",
    "\n",
    "def sub_song_artist_lua(clean_spotify_df, lua_param_file_path):\n",
    "    \"\"\"Takes in spotify clean dataframe and lua parameter file,\n",
    "    return substituted code using regex \"\"\"\n",
    "\n",
    "    # Read the Lua script from the file\n",
    "    file_path = lua_param_file_path\n",
    "    with open(file_path, 'r') as file:\n",
    "        lua_script = file.read()\n",
    "\n",
    "    text = lua_script\n",
    "\n",
    "    # Regex pattern to match all song entries - artists = and song =\n",
    "    pattern = r'{artist = \"([^\"]+)\", song = \"([^\"]+)\"}'\n",
    "\n",
    "    # Find all matches\n",
    "    matches = list(re.finditer(pattern, text))\n",
    "\n",
    "    # Substitute each match one by one\n",
    "    for i,match in enumerate(matches):\n",
    "        artist, song = match.groups()\n",
    "        print(f\"Matched artist: {artist}, song: {song}\")\n",
    "        \n",
    "        # Modify text: replace current match with a custom substitution\n",
    "        text = re.sub(re.escape(match.group(0)), f'{{artist = \"{clean_spotify_df['artists'][i]}\", song = \"{clean_spotify_df['song'][i]}\"}}', text, count=1)\n",
    "\n",
    "    print(\"\\nModified Text:\\n\")\n",
    "    print(text)\n",
    "\n",
    "    return text\n",
    "\n",
    "def read_lua(file_path):\n",
    "    # Read the Lua script from the file\n",
    "    with open(file_path, 'r') as file:\n",
    "        lua_script = file.read()\n",
    "\n",
    "    text = lua_script\n",
    "\n",
    "    return text\n",
    "\n",
    "\n",
    "\n"
   ]
  },
  {
   "cell_type": "code",
   "execution_count": null,
   "metadata": {},
   "outputs": [],
   "source": [
    "# call function to substitute parameters in lua template with new spotify song and artist names\n",
    "sub_params_lua_str = sub_song_artist_lua(clean_spotify_df,'lua_scripts\\\\parameter_classes.lua')\n",
    "display_script_lua = read_lua('lua_scripts\\\\display_script.lua')\n",
    "ui_script_lua = read_lua('lua_scripts\\\\ui_script.lua')\n",
    "\n",
    "# Add to other scripts to make complete script, \\n required to keep lua formatting\n",
    "complete_display_script_lua = sub_params_lua_str+\"\\n\"+display_script_lua\n",
    "complete_ui_script_lua = sub_params_lua_str+\"\\n\"+ui_script_lua\n"
   ]
  }
 ],
 "metadata": {
  "kernelspec": {
   "display_name": "roblox_env",
   "language": "python",
   "name": "python3"
  },
  "language_info": {
   "codemirror_mode": {
    "name": "ipython",
    "version": 3
   },
   "file_extension": ".py",
   "mimetype": "text/x-python",
   "name": "python",
   "nbconvert_exporter": "python",
   "pygments_lexer": "ipython3",
   "version": "3.12.7"
  }
 },
 "nbformat": 4,
 "nbformat_minor": 2
}

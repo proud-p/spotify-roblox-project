{
 "cells": [
  {
   "cell_type": "code",
   "execution_count": 97,
   "metadata": {},
   "outputs": [],
   "source": [
    "import configparser\n",
    "import spotipy\n",
    "from utils.auth_init import auth_init"
   ]
  },
  {
   "cell_type": "code",
   "execution_count": 98,
   "metadata": {},
   "outputs": [
    {
     "name": "stdout",
     "output_type": "stream",
     "text": [
      "auth/spotify_keys.ini already exists.\n",
      "auth/roblox_keys.ini already exists.\n"
     ]
    }
   ],
   "source": [
    "# Check key folder and if does not exist create empty templates for keys\n",
    "auth_init()"
   ]
  },
  {
   "cell_type": "markdown",
   "metadata": {},
   "source": [
    "### Spotify Credentials"
   ]
  },
  {
   "cell_type": "code",
   "execution_count": 99,
   "metadata": {},
   "outputs": [],
   "source": [
    "from spotipy.oauth2 import SpotifyClientCredentials\n",
    "\n",
    "# Read Spotify credentials from a configuration file\n",
    "config = configparser.ConfigParser()\n",
    "config.read('auth/spotify_keys.ini')\n",
    "\n",
    "# Variables for Spotify Data\n",
    "client_id = config['SpotifyAPI']['client_id']\n",
    "client_secret = config['SpotifyAPI']['client_secret']\n",
    "username = config['SpotifyAPI']['username']\n",
    "redirectURI = config['SpotifyAPI']['redirect']\n",
    "\n",
    "# Creeating Data Authentication Manager for Spotify Credentials\n",
    "client_credentials_manager = SpotifyClientCredentials(client_id=client_id, client_secret=client_secret)\n",
    "sp = spotipy.Spotify(client_credentials_manager=client_credentials_manager)"
   ]
  },
  {
   "cell_type": "markdown",
   "metadata": {},
   "source": [
    "### Roblox Authentication"
   ]
  },
  {
   "cell_type": "code",
   "execution_count": 100,
   "metadata": {},
   "outputs": [
    {
     "name": "stdout",
     "output_type": "stream",
     "text": [
      "ID: 7520736841\n"
     ]
    }
   ],
   "source": [
    "import robloxpy\n",
    "import requests\n",
    "import webbrowser\n",
    "import spotipy\n",
    "import spotipy.util as util\n",
    "import json\n",
    "import base64\n",
    "from roblox import Client\n",
    "import roblox.thumbnails as thumbnail\n",
    "import asyncio\n",
    "from utils.roblox_functions import *\n",
    "\n",
    "# Read Roblox Player Cookie\n",
    "RobloxAuth = RobloxAuthConfig('auth/roblox_keys.ini')\n",
    "cookie = RobloxAuth.cookie\n",
    "\n",
    "# Setting Roblox Cookie to Client using Ro.Py\n",
    "client = Client(cookie)\n",
    "\n",
    "async def main():\n",
    "    user = await client.get_authenticated_user()\n",
    "    # *** ID CAN BE PRINTED *** Test to see if you are Ro.Py Authenticated\n",
    "    print(\"ID:\", user.id)\n",
    "    \n",
    "await main()"
   ]
  },
  {
   "cell_type": "markdown",
   "metadata": {},
   "source": [
    "### Roblox Username Search"
   ]
  },
  {
   "cell_type": "code",
   "execution_count": 101,
   "metadata": {},
   "outputs": [
    {
     "data": {
      "text/plain": [
       "[{'name': 'funky', 'id': 115158}]"
      ]
     },
     "execution_count": 101,
     "metadata": {},
     "output_type": "execute_result"
    }
   ],
   "source": [
    "# Input | Search Roblox Usernames\n",
    "desired_name = \"Funky\"\n",
    "outputted_names = []\n",
    "\n",
    "async def main():\n",
    "    # Search the username and amount of results\n",
    "    users = client.user_search(desired_name, max_items =10)\n",
    "    async for user in users:\n",
    "        # Add to list\n",
    "        outputted_names.append(user.name)\n",
    "        outputted_names.append(user.id)\n",
    "await main()\n",
    "\n",
    "# Format list to Dictonary to access Name & ID\n",
    "formatted_names = []\n",
    "for i in range(0, len(outputted_names), 2):\n",
    "    formatted_names.append({'name': outputted_names[i], 'id': outputted_names[i + 1]})\n",
    "\n",
    "formatted_names"
   ]
  },
  {
   "cell_type": "markdown",
   "metadata": {},
   "source": [
    "### Roblox Thumbnail Finder"
   ]
  },
  {
   "cell_type": "code",
   "execution_count": 102,
   "metadata": {},
   "outputs": [
    {
     "name": "stdout",
     "output_type": "stream",
     "text": [
      "https://tr.rbxcdn.com/30DAY-Avatar-5F0AB89B2E5D51F8701D55CE31295026-Png/420/420/Avatar/Png/noFilter\n"
     ]
    }
   ],
   "source": [
    "# Pick a user: this could be random but in this case its top result\n",
    "desired_user = formatted_names[0]\n",
    "user = await client.get_user(desired_user[\"id\"])\n",
    "\n",
    "# Get the avatar thumbnail found on their profile\n",
    "user_thumbnails = await client.thumbnails.get_user_avatar_thumbnails(\n",
    "    users=[user],\n",
    "    type=thumbnail.AvatarThumbnailType.full_body,\n",
    "    size=(420, 420)\n",
    ")\n",
    "\n",
    "# Print the URL of thumbnail\n",
    "if len(user_thumbnails) > 0:\n",
    "    user_thumbnail = user_thumbnails[0]\n",
    "    user_image = user_thumbnail.image_url\n",
    "    print(user_image)"
   ]
  },
  {
   "cell_type": "markdown",
   "metadata": {},
   "source": [
    "### Spotify Scoping"
   ]
  },
  {
   "cell_type": "code",
   "execution_count": 103,
   "metadata": {},
   "outputs": [],
   "source": [
    "# Spotify Sscopes (INCLUDE ugc-image-upload)\n",
    "scope = \"user-read-private user-read-playback-state user-modify-playback-state playlist-modify-public playlist-modify-private ugc-image-upload\"\n",
    "token = util.prompt_for_user_token(username, scope, client_id=client_id, client_secret=client_secret, redirect_uri=redirectURI)\n",
    "\n",
    "sp = spotipy.Spotify(auth=token)"
   ]
  },
  {
   "cell_type": "markdown",
   "metadata": {},
   "source": [
    "### Spotify Search by Username"
   ]
  },
  {
   "cell_type": "code",
   "execution_count": 104,
   "metadata": {},
   "outputs": [
    {
     "name": "stdout",
     "output_type": "stream",
     "text": [
      "funky\n"
     ]
    }
   ],
   "source": [
    "# Prints Username of Robloxian\n",
    "print(formatted_names[0][\"name\"])\n",
    "\n",
    "# Search Spotify based on the Robloxians Username\n",
    "track_results = sp.search(q=desired_user[\"name\"], type=\"track\", limit = 10)"
   ]
  },
  {
   "cell_type": "markdown",
   "metadata": {},
   "source": [
    "### Song URI Grabber"
   ]
  },
  {
   "cell_type": "code",
   "execution_count": 105,
   "metadata": {},
   "outputs": [],
   "source": [
    "song_data = track_results[\"tracks\"][\"items\"]\n",
    "\n",
    "# Get song URIs into a list\n",
    "song_uris = []\n",
    "for song in song_data:\n",
    "    song_uris.append(song[\"uri\"])"
   ]
  },
  {
   "cell_type": "markdown",
   "metadata": {},
   "source": [
    "### Playlist Generator"
   ]
  },
  {
   "cell_type": "code",
   "execution_count": 106,
   "metadata": {},
   "outputs": [
    {
     "name": "stdout",
     "output_type": "stream",
     "text": [
      "{'snapshot_id': 'AAAAAqgo31PfglT7ZxLZW4oF16WkhaW6'}\n"
     ]
    },
    {
     "data": {
      "text/plain": [
       "True"
      ]
     },
     "execution_count": 106,
     "metadata": {},
     "output_type": "execute_result"
    }
   ],
   "source": [
    "my_playlist = sp.user_playlist_create(user=username, name=desired_user[\"name\"], public=True,\n",
    "                                      description=f\"Playlist for the Robloxian {desired_user[\"name\"]}!\")\n",
    "# Add the songs\n",
    "results = sp.user_playlist_add_tracks(username, my_playlist['id'], song_uris)\n",
    "print(results)\n",
    "\n",
    "# Convert the user thumbnail through base64 enconde\n",
    "def get_as_base64(url):\n",
    "    response = requests.get(url)\n",
    "    return base64.b64encode(response.content).decode('utf-8')\n",
    "\n",
    "get_as_base64(user_image)\n",
    "\n",
    "# Get image and upload the image as playlist cover\n",
    "user_image_base64 = get_as_base64(user_image)\n",
    "sp.playlist_upload_cover_image(my_playlist['id'], user_image_base64)\n",
    "\n",
    "# Open Spotify\n",
    "webbrowser.open(my_playlist['external_urls']['spotify'])"
   ]
  },
  {
   "cell_type": "code",
   "execution_count": 107,
   "metadata": {},
   "outputs": [],
   "source": [
    "import pandas as pd\n",
    "df = pd.DataFrame(track_results['tracks']['items'])"
   ]
  },
  {
   "cell_type": "code",
   "execution_count": 108,
   "metadata": {},
   "outputs": [
    {
     "data": {
      "text/plain": [
       "'Dave'"
      ]
     },
     "execution_count": 108,
     "metadata": {},
     "output_type": "execute_result"
    }
   ],
   "source": [
    "df['artists'][0][0]['name']"
   ]
  },
  {
   "cell_type": "code",
   "execution_count": 109,
   "metadata": {},
   "outputs": [
    {
     "data": {
      "text/plain": [
       "[{'external_urls': {'spotify': 'https://open.spotify.com/artist/0lwRI7lvmlRY5DiA5Xa6wQ'},\n",
       "  'href': 'https://api.spotify.com/v1/artists/0lwRI7lvmlRY5DiA5Xa6wQ',\n",
       "  'id': '0lwRI7lvmlRY5DiA5Xa6wQ',\n",
       "  'name': 'Lipps Inc.',\n",
       "  'type': 'artist',\n",
       "  'uri': 'spotify:artist:0lwRI7lvmlRY5DiA5Xa6wQ'}]"
      ]
     },
     "execution_count": 109,
     "metadata": {},
     "output_type": "execute_result"
    }
   ],
   "source": [
    "df['artists'][1]"
   ]
  },
  {
   "cell_type": "code",
   "execution_count": 110,
   "metadata": {},
   "outputs": [],
   "source": [
    "def spotify_tracks_to_df(track_results):\n",
    "\n",
    "    def clean_artist(list_of_artists):\n",
    "        just_names = [d['name'] for d in list_of_artists]\n",
    "        results_string = \" & \".join(just_names)\n",
    "\n",
    "        return results_string\n",
    "    \n",
    "\n",
    "    df = pd.DataFrame(track_results['tracks']['items'])\n",
    "    df['clean_artist_names'] = df['artists'].apply(lambda x: clean_artist(x))\n",
    "    clean_df = df[['name','clean_artist_names']]\n",
    "    clean_df = clean_df.rename(columns = {'clean_artist_names':'artists','name':'song'})\n",
    "\n",
    "    return clean_df"
   ]
  },
  {
   "cell_type": "code",
   "execution_count": 111,
   "metadata": {},
   "outputs": [
    {
     "data": {
      "text/html": [
       "<div>\n",
       "<style scoped>\n",
       "    .dataframe tbody tr th:only-of-type {\n",
       "        vertical-align: middle;\n",
       "    }\n",
       "\n",
       "    .dataframe tbody tr th {\n",
       "        vertical-align: top;\n",
       "    }\n",
       "\n",
       "    .dataframe thead th {\n",
       "        text-align: right;\n",
       "    }\n",
       "</style>\n",
       "<table border=\"1\" class=\"dataframe\">\n",
       "  <thead>\n",
       "    <tr style=\"text-align: right;\">\n",
       "      <th></th>\n",
       "      <th>song</th>\n",
       "      <th>artists</th>\n",
       "    </tr>\n",
       "  </thead>\n",
       "  <tbody>\n",
       "    <tr>\n",
       "      <th>0</th>\n",
       "      <td>Funky Friday</td>\n",
       "      <td>Dave &amp; Fredo</td>\n",
       "    </tr>\n",
       "    <tr>\n",
       "      <th>1</th>\n",
       "      <td>Funkytown</td>\n",
       "      <td>Lipps Inc.</td>\n",
       "    </tr>\n",
       "    <tr>\n",
       "      <th>2</th>\n",
       "      <td>Funkytown</td>\n",
       "      <td>Lipps Inc.</td>\n",
       "    </tr>\n",
       "    <tr>\n",
       "      <th>3</th>\n",
       "      <td>Thiago Silva</td>\n",
       "      <td>Dave &amp; AJ Tracey</td>\n",
       "    </tr>\n",
       "    <tr>\n",
       "      <th>4</th>\n",
       "      <td>Funky Friday</td>\n",
       "      <td>Dave &amp; Fredo</td>\n",
       "    </tr>\n",
       "    <tr>\n",
       "      <th>5</th>\n",
       "      <td>Play That Funky Music</td>\n",
       "      <td>Wild Cherry</td>\n",
       "    </tr>\n",
       "    <tr>\n",
       "      <th>6</th>\n",
       "      <td>Funkytown - Single Version</td>\n",
       "      <td>Lipps Inc.</td>\n",
       "    </tr>\n",
       "    <tr>\n",
       "      <th>7</th>\n",
       "      <td>Funky Cold Medina</td>\n",
       "      <td>Tone-Loc</td>\n",
       "    </tr>\n",
       "    <tr>\n",
       "      <th>8</th>\n",
       "      <td>Funky Kingston</td>\n",
       "      <td>Toots &amp; The Maytals</td>\n",
       "    </tr>\n",
       "    <tr>\n",
       "      <th>9</th>\n",
       "      <td>Funky Shit</td>\n",
       "      <td>The Prodigy</td>\n",
       "    </tr>\n",
       "  </tbody>\n",
       "</table>\n",
       "</div>"
      ],
      "text/plain": [
       "                         song              artists\n",
       "0                Funky Friday         Dave & Fredo\n",
       "1                   Funkytown           Lipps Inc.\n",
       "2                   Funkytown           Lipps Inc.\n",
       "3                Thiago Silva     Dave & AJ Tracey\n",
       "4                Funky Friday         Dave & Fredo\n",
       "5       Play That Funky Music          Wild Cherry\n",
       "6  Funkytown - Single Version           Lipps Inc.\n",
       "7           Funky Cold Medina             Tone-Loc\n",
       "8              Funky Kingston  Toots & The Maytals\n",
       "9                  Funky Shit          The Prodigy"
      ]
     },
     "execution_count": 111,
     "metadata": {},
     "output_type": "execute_result"
    }
   ],
   "source": [
    "spotify_df = spotify_tracks_to_df(track_results)\n",
    "spotify_df"
   ]
  },
  {
   "cell_type": "code",
   "execution_count": 112,
   "metadata": {},
   "outputs": [
    {
     "data": {
      "text/plain": [
       "['lua_scripts/display_script.lua',\n",
       " 'lua_scripts/parameter_classes.lua',\n",
       " 'lua_scripts/ui_script.lua']"
      ]
     },
     "execution_count": 112,
     "metadata": {},
     "output_type": "execute_result"
    }
   ],
   "source": [
    "# get all lua paths\n",
    "import os\n",
    "# Specify the directory\n",
    "directory = 'lua_scripts/'\n",
    "\n",
    "# Get all file paths\n",
    "lua_file_paths = [os.path.join(directory, filename) for filename in os.listdir(directory) if os.path.isfile(os.path.join(directory, filename))]\n",
    "lua_file_paths"
   ]
  },
  {
   "cell_type": "code",
   "execution_count": 113,
   "metadata": {},
   "outputs": [
    {
     "name": "stdout",
     "output_type": "stream",
     "text": [
      "Matched artist: Artist 1, song: Song 1\n",
      "Matched artist: Artist 2, song: Song 2\n",
      "Matched artist: Artist 3, song: Song 3\n",
      "Matched artist: Artist 4, song: Song 4\n",
      "Matched artist: Artist 5, song: Song 5\n",
      "Matched artist: Artist 6, song: Song 6\n",
      "Matched artist: Artist 7, song: Song 7\n",
      "Matched artist: Artist 8, song: Song 8\n",
      "Matched artist: Artist 9, song: Song 9\n",
      "Matched artist: Artist 10, song: Song 10\n",
      "\n",
      "Modified Text:\n",
      "\n",
      "-- ParameterStart\n",
      "local data = {\n",
      "\t{artist = \"Dave & Fredo\", song = \"Funky Friday\"},\n",
      "\t{artist = \"Lipps Inc.\", song = \"Funkytown\"},\n",
      "\t{artist = \"Lipps Inc.\", song = \"Funkytown\"},\n",
      "\t{artist = \"Dave & AJ Tracey\", song = \"Thiago Silva\"},\n",
      "\t{artist = \"Dave & Fredo\", song = \"Funky Friday\"},\n",
      "\t{artist = \"Wild Cherry\", song = \"Play That Funky Music\"},\n",
      "\t{artist = \"Lipps Inc.\", song = \"Funkytown - Single Version\"},\n",
      "\t{artist = \"Tone-Loc\", song = \"Funky Cold Medina\"},\n",
      "\t{artist = \"Toots & The Maytals\", song = \"Funky Kingston\"},\n",
      "\t{artist = \"The Prodigy\", song = \"Funky Shit\"},\n",
      "}\n",
      "-- ParameterEnd\n"
     ]
    }
   ],
   "source": [
    "import re\n",
    "\n",
    "# Read the Lua script from the file\n",
    "file_path = \"lua_scripts/parameter_classes.lua\"\n",
    "with open(file_path, 'r') as file:\n",
    "    lua_script = file.read()\n",
    "\n",
    "text = lua_script\n",
    "\n",
    "# Regex pattern to match all song entries\n",
    "pattern = r'{artist = \"([^\"]+)\", song = \"([^\"]+)\"}'\n",
    "\n",
    "# Find all matches\n",
    "matches = list(re.finditer(pattern, text))\n",
    "\n",
    "# Substitute each match one by one\n",
    "for i,match in enumerate(matches):\n",
    "    artist, song = match.groups()\n",
    "    print(f\"Matched artist: {artist}, song: {song}\")\n",
    "    \n",
    "    # Modify text: replace current match with a custom substitution\n",
    "    text = re.sub(re.escape(match.group(0)), f'{{artist = \"{spotify_df['artists'][i]}\", song = \"{spotify_df['song'][i]}\"}}', text, count=1)\n",
    "\n",
    "print(\"\\nModified Text:\\n\")\n",
    "print(text)\n"
   ]
  },
  {
   "cell_type": "code",
   "execution_count": 114,
   "metadata": {},
   "outputs": [],
   "source": [
    "with open(\"lua_scripts/display_script.lua\", \"r\") as display_file:\n",
    "    display_script = display_file.read()\n",
    "\n",
    "with open(\"lua_scripts/ui_script.lua\", \"r\") as ui_file:\n",
    "    ui_script = ui_file.read()\n",
    "\n",
    "ui_script = text + ui_script\n",
    "display_script = text + display_script"
   ]
  },
  {
   "cell_type": "code",
   "execution_count": 115,
   "metadata": {},
   "outputs": [
    {
     "name": "stderr",
     "output_type": "stream",
     "text": [
      "  0%|                                                                                            | 0/2 [00:00<?, ?it/s]"
     ]
    },
    {
     "name": "stdout",
     "output_type": "stream",
     "text": [
      "At level: ServerScriptService\n"
     ]
    },
    {
     "name": "stderr",
     "output_type": "stream",
     "text": [
      " 50%|██████████████████████████████████████████                                          | 1/2 [00:05<00:05,  5.37s/it]"
     ]
    },
    {
     "name": "stdout",
     "output_type": "stream",
     "text": [
      "Response: 200\n",
      "Found dictionary: {'path': 'universes/6737450158/places/106470241725015/instances/108471ac-b6e3-9bdc-0733-9ba500000350', 'hasChildren': True, 'engineInstance': {'Id': '108471ac-b6e3-9bdc-0733-9ba500000350', 'Parent': '36569f41-47e1-34fd-073b-97df00000001', 'Name': 'ServerScriptService', 'Details': {}}}\n",
      "At level: DisplayIterator\n"
     ]
    },
    {
     "name": "stderr",
     "output_type": "stream",
     "text": [
      "100%|████████████████████████████████████████████████████████████████████████████████████| 2/2 [00:10<00:00,  5.37s/it]\n"
     ]
    },
    {
     "name": "stdout",
     "output_type": "stream",
     "text": [
      "Response: 200\n",
      "Found dictionary: {'path': 'universes/6737450158/places/106470241725015/instances/59cd816a-8f1c-a260-0737-a3f00000551b', 'hasChildren': False, 'engineInstance': {'Id': '59cd816a-8f1c-a260-0737-a3f00000551b', 'Parent': '108471ac-b6e3-9bdc-0733-9ba500000350', 'Name': 'DisplayIterator', 'Details': {'Script': {'Enabled': True, 'RunContext': 'Legacy', 'Source': ''}}}}\n",
      "Final instance id returned: 59cd816a-8f1c-a260-0737-a3f00000551b\n"
     ]
    },
    {
     "name": "stderr",
     "output_type": "stream",
     "text": [
      "  0%|                                                                                            | 0/3 [00:00<?, ?it/s]"
     ]
    },
    {
     "name": "stdout",
     "output_type": "stream",
     "text": [
      "At level: StarterPlayer\n"
     ]
    },
    {
     "name": "stderr",
     "output_type": "stream",
     "text": [
      " 33%|████████████████████████████                                                        | 1/3 [00:05<00:10,  5.36s/it]"
     ]
    },
    {
     "name": "stdout",
     "output_type": "stream",
     "text": [
      "Response: 200\n",
      "Found dictionary: {'path': 'universes/6737450158/places/106470241725015/instances/108471ac-b6e3-9bdc-0733-9ba500000325', 'hasChildren': True, 'engineInstance': {'Id': '108471ac-b6e3-9bdc-0733-9ba500000325', 'Parent': '36569f41-47e1-34fd-073b-97df00000001', 'Name': 'StarterPlayer', 'Details': {}}}\n",
      "At level: StarterCharacterScripts\n"
     ]
    },
    {
     "name": "stderr",
     "output_type": "stream",
     "text": [
      " 67%|████████████████████████████████████████████████████████                            | 2/3 [00:10<00:05,  5.35s/it]"
     ]
    },
    {
     "name": "stdout",
     "output_type": "stream",
     "text": [
      "Response: 200\n",
      "Found dictionary: {'path': 'universes/6737450158/places/106470241725015/instances/108471ac-b6e3-9bdc-0733-9ba50000037b', 'hasChildren': True, 'engineInstance': {'Id': '108471ac-b6e3-9bdc-0733-9ba50000037b', 'Parent': '108471ac-b6e3-9bdc-0733-9ba500000325', 'Name': 'StarterCharacterScripts', 'Details': {}}}\n",
      "At level: UpdateUI\n"
     ]
    },
    {
     "name": "stderr",
     "output_type": "stream",
     "text": [
      "100%|████████████████████████████████████████████████████████████████████████████████████| 3/3 [00:16<00:00,  5.35s/it]"
     ]
    },
    {
     "name": "stdout",
     "output_type": "stream",
     "text": [
      "Response: 200\n",
      "Found dictionary: {'path': 'universes/6737450158/places/106470241725015/instances/6fee2929-cab0-0158-073a-4bad00016972', 'hasChildren': False, 'engineInstance': {'Id': '6fee2929-cab0-0158-073a-4bad00016972', 'Parent': '108471ac-b6e3-9bdc-0733-9ba50000037b', 'Name': 'UpdateUI', 'Details': {'LocalScript': {'Enabled': True, 'Source': ''}}}}\n",
      "Final instance id returned: 6fee2929-cab0-0158-073a-4bad00016972\n"
     ]
    },
    {
     "name": "stderr",
     "output_type": "stream",
     "text": [
      "\n"
     ]
    }
   ],
   "source": [
    "# Get script instance\n",
    "main_object_path = (\"ServerScriptService/DisplayIterator\")\n",
    "instance_id = find_instance_id(RobloxAuth,object_path=main_object_path)\n",
    "\n",
    "ui_object_path = (\"StarterPlayer/StarterCharacterScripts/UpdateUI\")\n",
    "instance_id_2 = find_instance_id(RobloxAuth,object_path=ui_object_path)"
   ]
  },
  {
   "cell_type": "code",
   "execution_count": 116,
   "metadata": {},
   "outputs": [],
   "source": [
    "#print(display_script)"
   ]
  },
  {
   "cell_type": "code",
   "execution_count": 117,
   "metadata": {},
   "outputs": [
    {
     "name": "stdout",
     "output_type": "stream",
     "text": [
      "{'Script': {'Source': '-- ParameterStart\\nlocal data = {\\n\\t{artist = \"Dave & Fredo\", song = \"Funky Friday\"},\\n\\t{artist = \"Lipps Inc.\", song = \"Funkytown\"},\\n\\t{artist = \"Lipps Inc.\", song = \"Funkytown\"},\\n\\t{artist = \"Dave & AJ Tracey\", song = \"Thiago Silva\"},\\n\\t{artist = \"Dave & Fredo\", song = \"Funky Friday\"},\\n\\t{artist = \"Wild Cherry\", song = \"Play That Funky Music\"},\\n\\t{artist = \"Lipps Inc.\", song = \"Funkytown - Single Version\"},\\n\\t{artist = \"Tone-Loc\", song = \"Funky Cold Medina\"},\\n\\t{artist = \"Toots & The Maytals\", song = \"Funky Kingston\"},\\n\\t{artist = \"The Prodigy\", song = \"Funky Shit\"},\\n}\\n-- ParameterEnd-- INSERT PARAMETERS\\n\\nlocal displayGroup = workspace.Displays\\nlocal display_no = 0\\t\\n\\nlocal displays = {}\\nfor _, display in ipairs(displayGroup:GetChildren()) do\\n\\tif string.match(display.Name, \"SpotifyDisplay%d+\") then\\n\\t\\ttable.insert(displays, {\\n\\t\\t\\tartist_display = display[\"Artist Display\"].SurfaceGui.TextLabel,\\n\\t\\t\\tsong_display = display[\"Song Display\"].SurfaceGui[\"Song Title (Editable)\"],\\n\\t\\t\\tsong_no = display[\"Song Display\"].SurfaceGui[\"Number\"]\\n\\t\\t})\\n\\tend\\nend\\n\\nfor i, item in ipairs(data) do\\n\\tif displays[i] then\\n\\t\\tlocal display = displays[i]\\n\\t\\tdisplay.artist_display.Text = \"Artist Name: \" .. item.artist\\n\\t\\tdisplay.song_display.Text = item.song\\n\\t\\tdisplay_no = display_no + 1\\n\\t\\tdisplay.song_no.Text = \"(\"..display_no..\")\"\\n\\t\\tprint(\"Set display \".. i)\\n\\telse\\n\\t\\tprint(\"Display \"..i..\" not found\")\\n\\tend\\nend'}}\n",
      "Response: 200 {\"path\":\"universes/6737450158/places/106470241725015/instances/59cd816a-8f1c-a260-0737-a3f00000551b/operations/2f6a3e2c-c4d4-4e93-90b0-5e13435e05e3\",\"done\":false}\n",
      "Response: 200 {\"path\":\"universes/6737450158/places/106470241725015/instances/59cd816a-8f1c-a260-0737-a3f00000551b/operations/2f6a3e2c-c4d4-4e93-90b0-5e13435e05e3\",\"done\":true,\"response\":{\"@type\":\"type.googleapis.com/roblox.open_cloud.cloud.v2.Instance\",\"path\":\"universes/6737450158/places/106470241725015/instances/59cd816a-8f1c-a260-0737-a3f00000551b\",\"hasChildren\":false,\"engineInstance\":{\"Id\":\"59cd816a-8f1c-a260-0737-a3f00000551b\",\"Parent\":\"108471ac-b6e3-9bdc-0733-9ba500000350\",\"Name\":\"DisplayIterator\",\"Details\":{\"Script\":{\"Enabled\":true,\"RunContext\":\"Legacy\",\"Source\":\"-- ParameterStart\\nlocal data = {\\n\\t{artist = \\\"Dave & Fredo\\\", song = \\\"Funky Friday\\\"},\\n\\t{artist = \\\"Lipps Inc.\\\", song = \\\"Funkytown\\\"},\\n\\t{artist = \\\"Lipps Inc.\\\", song = \\\"Funkytown\\\"},\\n\\t{artist = \\\"Dave & AJ Tracey\\\", song = \\\"Thiago Silva\\\"},\\n\\t{artist = \\\"Dave & Fredo\\\", song = \\\"Funky Friday\\\"},\\n\\t{artist = \\\"Wild Cherry\\\", song = \\\"Play That Funky Music\\\"},\\n\\t{artist = \\\"Lipps Inc.\\\", song = \\\"Funkytown - Single Version\\\"},\\n\\t{artist = \\\"Tone-Loc\\\", song = \\\"Funky Cold Medina\\\"},\\n\\t{artist = \\\"Toots & The Maytals\\\", song = \\\"Funky Kingston\\\"},\\n\\t{artist = \\\"The Prodigy\\\", song = \\\"Funky Shit\\\"},\\n}\\n-- ParameterEnd-- INSERT PARAMETERS\\n\\nlocal displayGroup = workspace.Displays\\nlocal display_no = 0\\t\\n\\nlocal displays = {}\\nfor _, display in ipairs(displayGroup:GetChildren()) do\\n\\tif string.match(display.Name, \\\"SpotifyDisplay%d+\\\") then\\n\\t\\ttable.insert(displays, {\\n\\t\\t\\tartist_display = display[\\\"Artist Display\\\"].SurfaceGui.TextLabel,\\n\\t\\t\\tsong_display = display[\\\"Song Display\\\"].SurfaceGui[\\\"Song Title (Editable)\\\"],\\n\\t\\t\\tsong_no = display[\\\"Song Display\\\"].SurfaceGui[\\\"Number\\\"]\\n\\t\\t})\\n\\tend\\nend\\n\\nfor i, item in ipairs(data) do\\n\\tif displays[i] then\\n\\t\\tlocal display = displays[i]\\n\\t\\tdisplay.artist_display.Text = \\\"Artist Name: \\\" .. item.artist\\n\\t\\tdisplay.song_display.Text = item.song\\n\\t\\tdisplay_no = display_no + 1\\n\\t\\tdisplay.song_no.Text = \\\"(\\\"..display_no..\\\")\\\"\\n\\t\\tprint(\\\"Set display \\\".. i)\\n\\telse\\n\\t\\tprint(\\\"Display \\\"..i..\\\" not found\\\")\\n\\tend\\nend\"}}}}}\n",
      "{'LocalScript': {'Source': '-- ParameterStart\\nlocal data = {\\n\\t{artist = \"Dave & Fredo\", song = \"Funky Friday\"},\\n\\t{artist = \"Lipps Inc.\", song = \"Funkytown\"},\\n\\t{artist = \"Lipps Inc.\", song = \"Funkytown\"},\\n\\t{artist = \"Dave & AJ Tracey\", song = \"Thiago Silva\"},\\n\\t{artist = \"Dave & Fredo\", song = \"Funky Friday\"},\\n\\t{artist = \"Wild Cherry\", song = \"Play That Funky Music\"},\\n\\t{artist = \"Lipps Inc.\", song = \"Funkytown - Single Version\"},\\n\\t{artist = \"Tone-Loc\", song = \"Funky Cold Medina\"},\\n\\t{artist = \"Toots & The Maytals\", song = \"Funky Kingston\"},\\n\\t{artist = \"The Prodigy\", song = \"Funky Shit\"},\\n}\\n-- ParameterEnd-- INSERT PARAMETERS\\n\\nlocal player = game.Players.LocalPlayer \\nlocal on_screen = player:WaitForChild(\"PlayerGui\"):WaitForChild(\"ScreenGui\"):WaitForChild(\"Frame\"):WaitForChild(\"Text\")\\n\\nlocal function updateDisplay()\\n\\twhile true do\\n\\t\\tfor i, item in ipairs(data) do\\n\\t\\t\\ton_screen.Text = \"Song: \\'\" .. item.song .. \"\\' by: \" .. item.artist\\n\\t\\t\\tprint(i)\\n\\t\\t\\twait(3)\\n\\t\\tend\\n\\tend\\nend\\n\\ncoroutine.wrap(updateDisplay)()'}}\n",
      "Response: 200 {\"path\":\"universes/6737450158/places/106470241725015/instances/6fee2929-cab0-0158-073a-4bad00016972/operations/b9ad10e1-0643-4282-9513-58a436e19a30\",\"done\":false}\n",
      "Response: 200 {\"path\":\"universes/6737450158/places/106470241725015/instances/6fee2929-cab0-0158-073a-4bad00016972/operations/b9ad10e1-0643-4282-9513-58a436e19a30\",\"done\":true,\"response\":{\"@type\":\"type.googleapis.com/roblox.open_cloud.cloud.v2.Instance\",\"path\":\"universes/6737450158/places/106470241725015/instances/6fee2929-cab0-0158-073a-4bad00016972\",\"hasChildren\":false,\"engineInstance\":{\"Id\":\"6fee2929-cab0-0158-073a-4bad00016972\",\"Parent\":\"108471ac-b6e3-9bdc-0733-9ba50000037b\",\"Name\":\"UpdateUI\",\"Details\":{\"LocalScript\":{\"Enabled\":true,\"Source\":\"-- ParameterStart\\nlocal data = {\\n\\t{artist = \\\"Dave & Fredo\\\", song = \\\"Funky Friday\\\"},\\n\\t{artist = \\\"Lipps Inc.\\\", song = \\\"Funkytown\\\"},\\n\\t{artist = \\\"Lipps Inc.\\\", song = \\\"Funkytown\\\"},\\n\\t{artist = \\\"Dave & AJ Tracey\\\", song = \\\"Thiago Silva\\\"},\\n\\t{artist = \\\"Dave & Fredo\\\", song = \\\"Funky Friday\\\"},\\n\\t{artist = \\\"Wild Cherry\\\", song = \\\"Play That Funky Music\\\"},\\n\\t{artist = \\\"Lipps Inc.\\\", song = \\\"Funkytown - Single Version\\\"},\\n\\t{artist = \\\"Tone-Loc\\\", song = \\\"Funky Cold Medina\\\"},\\n\\t{artist = \\\"Toots & The Maytals\\\", song = \\\"Funky Kingston\\\"},\\n\\t{artist = \\\"The Prodigy\\\", song = \\\"Funky Shit\\\"},\\n}\\n-- ParameterEnd-- INSERT PARAMETERS\\n\\nlocal player = game.Players.LocalPlayer \\nlocal on_screen = player:WaitForChild(\\\"PlayerGui\\\"):WaitForChild(\\\"ScreenGui\\\"):WaitForChild(\\\"Frame\\\"):WaitForChild(\\\"Text\\\")\\n\\nlocal function updateDisplay()\\n\\twhile true do\\n\\t\\tfor i, item in ipairs(data) do\\n\\t\\t\\ton_screen.Text = \\\"Song: '\\\" .. item.song .. \\\"' by: \\\" .. item.artist\\n\\t\\t\\tprint(i)\\n\\t\\t\\twait(3)\\n\\t\\tend\\n\\tend\\nend\\n\\ncoroutine.wrap(updateDisplay)()\"}}}}}\n"
     ]
    }
   ],
   "source": [
    "# Updating script\n",
    "\n",
    "propertyName = \"Source\" # API defined - not sure if this ever changes\n",
    "propertyValue = display_script  # The new script content\n",
    "instanceType = \"Script\"  # Name of script instance (I think)\n",
    "update_instance(RobloxAuth,instance_id,propertyName=propertyName,propertyValue=propertyValue,instanceType=instanceType)\n",
    "\n",
    "propertyName = \"Source\"\n",
    "propertyValue = ui_script \n",
    "instanceType = \"LocalScript\" \n",
    "update_instance(RobloxAuth,instance_id_2,propertyName=propertyName,propertyValue=propertyValue,instanceType=instanceType)\n",
    "\n",
    "# This won't work if you have the live script update opened, check the response text. Might add easy response text later"
   ]
  },
  {
   "cell_type": "code",
   "execution_count": 118,
   "metadata": {},
   "outputs": [
    {
     "name": "stdout",
     "output_type": "stream",
     "text": [
      "106470241725015\n"
     ]
    }
   ],
   "source": [
    "print(RobloxAuth.place_id)"
   ]
  },
  {
   "cell_type": "code",
   "execution_count": 119,
   "metadata": {},
   "outputs": [
    {
     "name": "stdout",
     "output_type": "stream",
     "text": [
      "https://apis.roblox.com/universes/v1/6737450158/places/106470241725015/versions\n"
     ]
    },
    {
     "data": {
      "text/plain": [
       "<Response [404]>"
      ]
     },
     "execution_count": 119,
     "metadata": {},
     "output_type": "execute_result"
    }
   ],
   "source": [
    "# Request header\n",
    "api_keyHeaderKey = \"x-api-key\"\n",
    "contentTypeHeaderKey = \"Content-type\"\n",
    "contentTypeHeaderValue = \"application/json\"\n",
    "\n",
    "# Endpoint URL for Update Instance method\n",
    "publishURL = 'https://apis.roblox.com/universes/v1/%s/places/%s/versions?versionType=Published'\n",
    "def publish_experience():\n",
    "    url = f\"https://apis.roblox.com/universes/v1/{RobloxAuth.universe_id}/places/{RobloxAuth.place_id}/versions\"  # f-string\n",
    "    print(url)\n",
    "    headerData = {api_keyHeaderKey: RobloxAuth.api_key,\n",
    "    contentTypeHeaderKey: contentTypeHeaderValue}\n",
    "    data = {\"versionType\": \"Published\"}\n",
    "    return requests.patch(url, headers = headerData, json=data)\n",
    "\n",
    "publish_experience()\n",
    "#update_instance(RobloxAuth,instance_id_2,propertyName=propertyName,propertyValue=propertyValue,instanceType=instanceType)"
   ]
  },
  {
   "cell_type": "code",
   "execution_count": 120,
   "metadata": {},
   "outputs": [
    {
     "name": "stdout",
     "output_type": "stream",
     "text": [
      "Error publishing: 400 Client Error: Bad Request for url: https://apis.roblox.com/universes/v1/6737450158/places/106470241725015/versions\n"
     ]
    }
   ],
   "source": [
    "api_keyHeaderKey = \"x-api-key\"\n",
    "contentTypeHeaderKey = \"Content-type\"\n",
    "contentTypeHeaderValue = \"application/json\"\n",
    "data_file_path = \"/path/to/your/file.rbxl\"\n",
    "\n",
    "def publish_experience(RobloxAuth):\n",
    "    url = f\"https://apis.roblox.com/universes/v1/{RobloxAuth.universe_id}/places/{RobloxAuth.place_id}/versions\"\n",
    "    headerData = {api_keyHeaderKey: RobloxAuth.api_key,\n",
    "        contentTypeHeaderKey: contentTypeHeaderValue}\n",
    "    data = {\"versionType\": \"Published\"}\n",
    "\n",
    "    try:\n",
    "        response = requests.post(url, headers=headerData, json=data)  # Use POST\n",
    "        response.raise_for_status()  # Raise HTTPError for bad responses (4xx or 5xx)\n",
    "        print(f\"Publish successful: {response.json()}\")\n",
    "        return response.json()\n",
    "    except requests.exceptions.RequestException as e:\n",
    "        print(f\"Error publishing: {e}\")\n",
    "        if response: # Print the error response from Roblox\n",
    "            print(f\"Roblox error response: {response.text}\")\n",
    "        return None\n",
    "\n",
    "publish_response = publish_experience(RobloxAuth)"
   ]
  },
  {
   "cell_type": "code",
   "execution_count": null,
   "metadata": {},
   "outputs": [],
   "source": []
  },
  {
   "cell_type": "code",
   "execution_count": null,
   "metadata": {},
   "outputs": [],
   "source": []
  }
 ],
 "metadata": {
  "kernelspec": {
   "display_name": "Python 3 (ipykernel)",
   "language": "python",
   "name": "python3"
  },
  "language_info": {
   "codemirror_mode": {
    "name": "ipython",
    "version": 3
   },
   "file_extension": ".py",
   "mimetype": "text/x-python",
   "name": "python",
   "nbconvert_exporter": "python",
   "pygments_lexer": "ipython3",
   "version": "3.12.7"
  }
 },
 "nbformat": 4,
 "nbformat_minor": 4
}

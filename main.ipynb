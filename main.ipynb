{
 "cells": [
  {
   "cell_type": "markdown",
   "metadata": {},
   "source": [
    "# Spotify Roblox API Project"
   ]
  },
  {
   "cell_type": "code",
   "execution_count": null,
   "metadata": {},
   "outputs": [],
   "source": [
    "import configparser\n",
    "import spotipy\n",
    "from utils.auth_init import auth_init\n",
    "import utils.spotify_functions as spotify_functions\n",
    "import utils.roblox_functions as roblox_functions\n",
    "import utils\n"
   ]
  },
  {
   "cell_type": "code",
   "execution_count": 2,
   "metadata": {},
   "outputs": [
    {
     "name": "stdout",
     "output_type": "stream",
     "text": [
      "auth/spotify_keys.ini already exists.\n",
      "auth/roblox_keys.ini already exists.\n"
     ]
    }
   ],
   "source": [
    "# Check key folder and if does not exist create empty templates for keys\n",
    "auth_init()"
   ]
  },
  {
   "cell_type": "markdown",
   "metadata": {},
   "source": [
    "## Code to Create Spotify Playlist Based on User"
   ]
  },
  {
   "cell_type": "code",
   "execution_count": null,
   "metadata": {},
   "outputs": [],
   "source": [
    "import robloxpy\n",
    "import requests\n",
    "import webbrowser\n",
    "import spotipy\n",
    "import spotipy.util as util\n",
    "import json\n",
    "import base64\n",
    "from roblox import Client\n",
    "import roblox.thumbnails as thumbnail\n",
    "import asyncio\n",
    "from utils.roblox_functions import *\n",
    "import utils.spotify_functions as spotify_functions\n",
    "import spotipy\n",
    "import pandas as pd \n",
    "from spotipy.oauth2 import SpotifyClientCredentials\n"
   ]
  },
  {
   "cell_type": "code",
   "execution_count": null,
   "metadata": {},
   "outputs": [],
   "source": [
    "# Get Spotify Authentication\n",
    "keys_path = \"auth/spotify_keys.ini\"\n",
    "spotify_auth = spotify_functions.SpotifyAuth(keys_path)\n",
    "\n",
    "# Authenticate Spotify and get credentials manager as sp\n",
    "client_credentials_manager = SpotifyClientCredentials(spotify_auth.client_id, spotify_auth.client_secret)\n",
    "sp = spotipy.Spotify(client_credentials_manager=client_credentials_manager)\n",
    "\n",
    "# Spotify scopes (INCLUDE ugc-image-upload)\n",
    "scope = \"user-read-private user-read-playback-state user-modify-playback-state playlist-modify-public playlist-modify-private ugc-image-upload\"\n",
    "token = util.prompt_for_user_token(spotify_auth.username, scope, client_id=spotify_auth.client_id, client_secret=spotify_auth.client_secret, redirect_uri=spotify_auth.redirectURI)\n",
    "\n",
    "sp = spotipy.Spotify(auth=token)"
   ]
  },
  {
   "cell_type": "code",
   "execution_count": null,
   "metadata": {},
   "outputs": [
    {
     "name": "stdout",
     "output_type": "stream",
     "text": [
      "ID: 7520736841\n"
     ]
    }
   ],
   "source": [
    "# Read Roblox Cookie to get specific user\n",
    "RobloxAuth = RobloxAuthConfig('auth/roblox_keys.ini')\n",
    "cookie = RobloxAuth.cookie\n",
    "\n",
    "# Setting Roblox Cookie to Client\n",
    "client = Client(cookie)\n",
    "\n",
    "async def main():\n",
    "    user = await client.get_authenticated_user()\n",
    "    # Test to see if you are in\n",
    "    # *** ID CAN BE PRINTED: it is found in Roblox profile URL***\n",
    "    print(\"ID:\", user.id)\n",
    "await main()"
   ]
  },
  {
   "cell_type": "code",
   "execution_count": null,
   "metadata": {},
   "outputs": [
    {
     "data": {
      "text/plain": [
       "[{'name': 'Roblox', 'id': 1},\n",
       " {'name': 'roblox_pro12163', 'id': 7418004099},\n",
       " {'name': 'RobloxRealAccount991', 'id': 7540027439},\n",
       " {'name': 'lukepukenow', 'id': 5033340271},\n",
       " {'name': '2019Squish', 'id': 4370141275},\n",
       " {'name': '19ewhospayzzz86', 'id': 7520073920},\n",
       " {'name': 'Zeph123911', 'id': 7526353872},\n",
       " {'name': 'roblox_556744', 'id': 3175414490},\n",
       " {'name': 'RobloxRobloxYT_1', 'id': 7148111849},\n",
       " {'name': 'Roblox0826135', 'id': 7531479514}]"
      ]
     },
     "execution_count": 7,
     "metadata": {},
     "output_type": "execute_result"
    }
   ],
   "source": [
    "# Input desired Roblox Username\n",
    "desired_name = \"WHATEVER NAME YOU WANT\"\n",
    "outputted_names = []\n",
    "\n",
    "async def main():\n",
    "    # Search the username and X results\n",
    "    users = client.user_search(desired_name, max_items =10)\n",
    "    async for user in users:\n",
    "        # Add to list\n",
    "        outputted_names.append(user.name)\n",
    "        outputted_names.append(user.id)\n",
    "        \n",
    "await main()\n",
    "\n",
    "formatted_names = []\n",
    "for i in range(0, len(outputted_names), 2):\n",
    "    # Format list to dictonary to access Name & ID\n",
    "    formatted_names.append({'name': outputted_names[i], 'id': outputted_names[i + 1]})\n",
    "\n",
    "formatted_names"
   ]
  },
  {
   "cell_type": "code",
   "execution_count": null,
   "metadata": {},
   "outputs": [
    {
     "name": "stdout",
     "output_type": "stream",
     "text": [
      "https://tr.rbxcdn.com/30DAY-Avatar-310966282D3529E36976BF6B07B1DC90-Png/420/420/Avatar/Png/noFilter\n"
     ]
    }
   ],
   "source": [
    "# Pick a user: this could be random but in this case its top result\n",
    "desired_user = formatted_names[0]\n",
    "user = await client.get_user(desired_user[\"id\"])\n",
    "# Get the avatar thumbnaill found on their profile\n",
    "user_thumbnails = await client.thumbnails.get_user_avatar_thumbnails(\n",
    "    users=[user],\n",
    "    type=thumbnail.AvatarThumbnailType.full_body,\n",
    "    size=(420, 420)\n",
    ")\n",
    "\n",
    "# Print the URL of user image\n",
    "if len(user_thumbnails) > 0:\n",
    "    user_thumbnail = user_thumbnails[0]\n",
    "    user_image = user_thumbnail.image_url\n",
    "    print('Url of user image:')\n",
    "    print(user_image)"
   ]
  },
  {
   "cell_type": "code",
   "execution_count": null,
   "metadata": {},
   "outputs": [
    {
     "name": "stdout",
     "output_type": "stream",
     "text": [
      "{'tracks': {'href': 'https://api.spotify.com/v1/search?query=Roblox&type=track&offset=0&limit=10', 'items': [{'album': {'album_type': 'single', 'artists': [{'external_urls': {'spotify': 'https://open.spotify.com/artist/5fYpjzyIlOPN39ALSPv7fG'}, 'href': 'https://api.spotify.com/v1/artists/5fYpjzyIlOPN39ALSPv7fG', 'id': '5fYpjzyIlOPN39ALSPv7fG', 'name': 'Mr Miln', 'type': 'artist', 'uri': 'spotify:artist:5fYpjzyIlOPN39ALSPv7fG'}], 'available_markets': ['AR', 'AU', 'AT', 'BE', 'BO', 'BR', 'BG', 'CA', 'CL', 'CO', 'CR', 'CY', 'CZ', 'DK', 'DO', 'DE', 'EC', 'EE', 'SV', 'FI', 'FR', 'GR', 'GT', 'HN', 'HK', 'HU', 'IS', 'IE', 'IT', 'LV', 'LT', 'LU', 'MY', 'MT', 'MX', 'NL', 'NZ', 'NI', 'NO', 'PA', 'PY', 'PE', 'PH', 'PL', 'PT', 'SG', 'SK', 'ES', 'SE', 'CH', 'TW', 'TR', 'UY', 'US', 'GB', 'AD', 'LI', 'MC', 'ID', 'JP', 'TH', 'VN', 'RO', 'IL', 'ZA', 'SA', 'AE', 'BH', 'QA', 'OM', 'KW', 'EG', 'MA', 'DZ', 'TN', 'LB', 'JO', 'PS', 'IN', 'BY', 'KZ', 'MD', 'UA', 'AL', 'BA', 'HR', 'ME', 'MK', 'RS', 'SI', 'KR', 'BD', 'PK', 'LK', 'GH', 'KE', 'NG', 'TZ', 'UG', 'AG', 'AM', 'BS', 'BB', 'BZ', 'BT', 'BW', 'BF', 'CV', 'CW', 'DM', 'FJ', 'GM', 'GE', 'GD', 'GW', 'GY', 'HT', 'JM', 'KI', 'LS', 'LR', 'MW', 'MV', 'ML', 'MH', 'FM', 'NA', 'NR', 'NE', 'PW', 'PG', 'PR', 'WS', 'SM', 'ST', 'SN', 'SC', 'SL', 'SB', 'KN', 'LC', 'VC', 'SR', 'TL', 'TO', 'TT', 'TV', 'VU', 'AZ', 'BN', 'BI', 'KH', 'CM', 'TD', 'KM', 'GQ', 'SZ', 'GA', 'GN', 'KG', 'LA', 'MO', 'MR', 'MN', 'NP', 'RW', 'TG', 'UZ', 'ZW', 'BJ', 'MG', 'MU', 'MZ', 'AO', 'CI', 'DJ', 'ZM', 'CD', 'CG', 'IQ', 'LY', 'TJ', 'VE', 'ET', 'XK'], 'external_urls': {'spotify': 'https://open.spotify.com/album/3rZhBwyKZWNP0iPzlaf9Zj'}, 'href': 'https://api.spotify.com/v1/albums/3rZhBwyKZWNP0iPzlaf9Zj', 'id': '3rZhBwyKZWNP0iPzlaf9Zj', 'images': [{'height': 640, 'url': 'https://i.scdn.co/image/ab67616d0000b273fcc6aaec6aaf1b53338c086d', 'width': 640}, {'height': 300, 'url': 'https://i.scdn.co/image/ab67616d00001e02fcc6aaec6aaf1b53338c086d', 'width': 300}, {'height': 64, 'url': 'https://i.scdn.co/image/ab67616d00004851fcc6aaec6aaf1b53338c086d', 'width': 64}], 'name': \"Don't Call Me a Noob\", 'release_date': '2018-07-25', 'release_date_precision': 'day', 'total_tracks': 1, 'type': 'album', 'uri': 'spotify:album:3rZhBwyKZWNP0iPzlaf9Zj'}, 'artists': [{'external_urls': {'spotify': 'https://open.spotify.com/artist/5fYpjzyIlOPN39ALSPv7fG'}, 'href': 'https://api.spotify.com/v1/artists/5fYpjzyIlOPN39ALSPv7fG', 'id': '5fYpjzyIlOPN39ALSPv7fG', 'name': 'Mr Miln', 'type': 'artist', 'uri': 'spotify:artist:5fYpjzyIlOPN39ALSPv7fG'}], 'available_markets': ['AR', 'AU', 'AT', 'BE', 'BO', 'BR', 'BG', 'CA', 'CL', 'CO', 'CR', 'CY', 'CZ', 'DK', 'DO', 'DE', 'EC', 'EE', 'SV', 'FI', 'FR', 'GR', 'GT', 'HN', 'HK', 'HU', 'IS', 'IE', 'IT', 'LV', 'LT', 'LU', 'MY', 'MT', 'MX', 'NL', 'NZ', 'NI', 'NO', 'PA', 'PY', 'PE', 'PH', 'PL', 'PT', 'SG', 'SK', 'ES', 'SE', 'CH', 'TW', 'TR', 'UY', 'US', 'GB', 'AD', 'LI', 'MC', 'ID', 'JP', 'TH', 'VN', 'RO', 'IL', 'ZA', 'SA', 'AE', 'BH', 'QA', 'OM', 'KW', 'EG', 'MA', 'DZ', 'TN', 'LB', 'JO', 'PS', 'IN', 'BY', 'KZ', 'MD', 'UA', 'AL', 'BA', 'HR', 'ME', 'MK', 'RS', 'SI', 'KR', 'BD', 'PK', 'LK', 'GH', 'KE', 'NG', 'TZ', 'UG', 'AG', 'AM', 'BS', 'BB', 'BZ', 'BT', 'BW', 'BF', 'CV', 'CW', 'DM', 'FJ', 'GM', 'GE', 'GD', 'GW', 'GY', 'HT', 'JM', 'KI', 'LS', 'LR', 'MW', 'MV', 'ML', 'MH', 'FM', 'NA', 'NR', 'NE', 'PW', 'PG', 'PR', 'WS', 'SM', 'ST', 'SN', 'SC', 'SL', 'SB', 'KN', 'LC', 'VC', 'SR', 'TL', 'TO', 'TT', 'TV', 'VU', 'AZ', 'BN', 'BI', 'KH', 'CM', 'TD', 'KM', 'GQ', 'SZ', 'GA', 'GN', 'KG', 'LA', 'MO', 'MR', 'MN', 'NP', 'RW', 'TG', 'UZ', 'ZW', 'BJ', 'MG', 'MU', 'MZ', 'AO', 'CI', 'DJ', 'ZM', 'CD', 'CG', 'IQ', 'LY', 'TJ', 'VE', 'ET', 'XK'], 'disc_number': 1, 'duration_ms': 158999, 'explicit': False, 'external_ids': {'isrc': 'QZDA71819932'}, 'external_urls': {'spotify': 'https://open.spotify.com/track/5lj7W0CHHxC9n5Zs6qFafX'}, 'href': 'https://api.spotify.com/v1/tracks/5lj7W0CHHxC9n5Zs6qFafX', 'id': '5lj7W0CHHxC9n5Zs6qFafX', 'is_local': False, 'name': \"Don't Call Me a Noob\", 'popularity': 46, 'preview_url': 'https://p.scdn.co/mp3-preview/cdff725231e7cf6aee4d4d54ded1e14acdc773c4?cid=c21cede122dd4c1780e8f92025cd210f', 'track_number': 1, 'type': 'track', 'uri': 'spotify:track:5lj7W0CHHxC9n5Zs6qFafX'}, {'album': {'album_type': 'single', 'artists': [{'external_urls': {'spotify': 'https://open.spotify.com/artist/3oBqUqRBY1Ish0n1fHxeu2'}, 'href': 'https://api.spotify.com/v1/artists/3oBqUqRBY1Ish0n1fHxeu2', 'id': '3oBqUqRBY1Ish0n1fHxeu2', 'name': 'Lil Big Stack', 'type': 'artist', 'uri': 'spotify:artist:3oBqUqRBY1Ish0n1fHxeu2'}], 'available_markets': ['AR', 'AU', 'AT', 'BE', 'BO', 'BR', 'BG', 'CA', 'CL', 'CO', 'CR', 'CY', 'CZ', 'DK', 'DO', 'DE', 'EC', 'EE', 'SV', 'FI', 'FR', 'GR', 'GT', 'HN', 'HK', 'HU', 'IS', 'IE', 'IT', 'LV', 'LT', 'LU', 'MY', 'MT', 'MX', 'NL', 'NZ', 'NI', 'NO', 'PA', 'PY', 'PE', 'PH', 'PL', 'PT', 'SG', 'SK', 'ES', 'SE', 'CH', 'TW', 'TR', 'UY', 'US', 'GB', 'AD', 'LI', 'MC', 'ID', 'JP', 'TH', 'VN', 'RO', 'IL', 'ZA', 'SA', 'AE', 'BH', 'QA', 'OM', 'KW', 'EG', 'MA', 'DZ', 'TN', 'LB', 'JO', 'PS', 'IN', 'BY', 'KZ', 'MD', 'UA', 'AL', 'BA', 'HR', 'ME', 'MK', 'RS', 'SI', 'KR', 'BD', 'PK', 'LK', 'GH', 'KE', 'NG', 'TZ', 'UG', 'AG', 'AM', 'BS', 'BB', 'BZ', 'BT', 'BW', 'BF', 'CV', 'CW', 'DM', 'FJ', 'GM', 'GE', 'GD', 'GW', 'GY', 'HT', 'JM', 'KI', 'LS', 'LR', 'MW', 'MV', 'ML', 'MH', 'FM', 'NA', 'NR', 'NE', 'PW', 'PG', 'PR', 'WS', 'SM', 'ST', 'SN', 'SC', 'SL', 'SB', 'KN', 'LC', 'VC', 'SR', 'TL', 'TO', 'TT', 'TV', 'VU', 'AZ', 'BN', 'BI', 'KH', 'CM', 'TD', 'KM', 'GQ', 'SZ', 'GA', 'GN', 'KG', 'LA', 'MO', 'MR', 'MN', 'NP', 'RW', 'TG', 'UZ', 'ZW', 'BJ', 'MG', 'MU', 'MZ', 'AO', 'CI', 'DJ', 'ZM', 'CD', 'CG', 'IQ', 'LY', 'TJ', 'VE', 'ET', 'XK'], 'external_urls': {'spotify': 'https://open.spotify.com/album/6Wn6ORSp0TMA4sx3NWmkJq'}, 'href': 'https://api.spotify.com/v1/albums/6Wn6ORSp0TMA4sx3NWmkJq', 'id': '6Wn6ORSp0TMA4sx3NWmkJq', 'images': [{'height': 640, 'url': 'https://i.scdn.co/image/ab67616d0000b27393d5c21554e1462bceb2e91b', 'width': 640}, {'height': 300, 'url': 'https://i.scdn.co/image/ab67616d00001e0293d5c21554e1462bceb2e91b', 'width': 300}, {'height': 64, 'url': 'https://i.scdn.co/image/ab67616d0000485193d5c21554e1462bceb2e91b', 'width': 64}], 'name': 'Skibidi Toilet', 'release_date': '2023-06-18', 'release_date_precision': 'day', 'total_tracks': 4, 'type': 'album', 'uri': 'spotify:album:6Wn6ORSp0TMA4sx3NWmkJq'}, 'artists': [{'external_urls': {'spotify': 'https://open.spotify.com/artist/3oBqUqRBY1Ish0n1fHxeu2'}, 'href': 'https://api.spotify.com/v1/artists/3oBqUqRBY1Ish0n1fHxeu2', 'id': '3oBqUqRBY1Ish0n1fHxeu2', 'name': 'Lil Big Stack', 'type': 'artist', 'uri': 'spotify:artist:3oBqUqRBY1Ish0n1fHxeu2'}], 'available_markets': ['AR', 'AU', 'AT', 'BE', 'BO', 'BR', 'BG', 'CA', 'CL', 'CO', 'CR', 'CY', 'CZ', 'DK', 'DO', 'DE', 'EC', 'EE', 'SV', 'FI', 'FR', 'GR', 'GT', 'HN', 'HK', 'HU', 'IS', 'IE', 'IT', 'LV', 'LT', 'LU', 'MY', 'MT', 'MX', 'NL', 'NZ', 'NI', 'NO', 'PA', 'PY', 'PE', 'PH', 'PL', 'PT', 'SG', 'SK', 'ES', 'SE', 'CH', 'TW', 'TR', 'UY', 'US', 'GB', 'AD', 'LI', 'MC', 'ID', 'JP', 'TH', 'VN', 'RO', 'IL', 'ZA', 'SA', 'AE', 'BH', 'QA', 'OM', 'KW', 'EG', 'MA', 'DZ', 'TN', 'LB', 'JO', 'PS', 'IN', 'BY', 'KZ', 'MD', 'UA', 'AL', 'BA', 'HR', 'ME', 'MK', 'RS', 'SI', 'KR', 'BD', 'PK', 'LK', 'GH', 'KE', 'NG', 'TZ', 'UG', 'AG', 'AM', 'BS', 'BB', 'BZ', 'BT', 'BW', 'BF', 'CV', 'CW', 'DM', 'FJ', 'GM', 'GE', 'GD', 'GW', 'GY', 'HT', 'JM', 'KI', 'LS', 'LR', 'MW', 'MV', 'ML', 'MH', 'FM', 'NA', 'NR', 'NE', 'PW', 'PG', 'PR', 'WS', 'SM', 'ST', 'SN', 'SC', 'SL', 'SB', 'KN', 'LC', 'VC', 'SR', 'TL', 'TO', 'TT', 'TV', 'VU', 'AZ', 'BN', 'BI', 'KH', 'CM', 'TD', 'KM', 'GQ', 'SZ', 'GA', 'GN', 'KG', 'LA', 'MO', 'MR', 'MN', 'NP', 'RW', 'TG', 'UZ', 'ZW', 'BJ', 'MG', 'MU', 'MZ', 'AO', 'CI', 'DJ', 'ZM', 'CD', 'CG', 'IQ', 'LY', 'TJ', 'VE', 'ET', 'XK'], 'disc_number': 1, 'duration_ms': 75610, 'explicit': False, 'external_ids': {'isrc': 'QZMEP2360644'}, 'external_urls': {'spotify': 'https://open.spotify.com/track/73AiQc9SXjjeii7jbhQ6Vc'}, 'href': 'https://api.spotify.com/v1/tracks/73AiQc9SXjjeii7jbhQ6Vc', 'id': '73AiQc9SXjjeii7jbhQ6Vc', 'is_local': False, 'name': 'Skibidi Toilet', 'popularity': 58, 'preview_url': 'https://p.scdn.co/mp3-preview/959eba48308e3673fa4ca5be79ba47e42b492905?cid=c21cede122dd4c1780e8f92025cd210f', 'track_number': 1, 'type': 'track', 'uri': 'spotify:track:73AiQc9SXjjeii7jbhQ6Vc'}, {'album': {'album_type': 'single', 'artists': [{'external_urls': {'spotify': 'https://open.spotify.com/artist/3j94aMUQbutvik3Kx2ZFWG'}, 'href': 'https://api.spotify.com/v1/artists/3j94aMUQbutvik3Kx2ZFWG', 'id': '3j94aMUQbutvik3Kx2ZFWG', 'name': 'Loginhdi', 'type': 'artist', 'uri': 'spotify:artist:3j94aMUQbutvik3Kx2ZFWG'}], 'available_markets': ['AR', 'AU', 'AT', 'BE', 'BO', 'BR', 'BG', 'CA', 'CL', 'CO', 'CR', 'CY', 'CZ', 'DK', 'DO', 'DE', 'EC', 'EE', 'SV', 'FI', 'FR', 'GR', 'GT', 'HN', 'HK', 'HU', 'IS', 'IE', 'IT', 'LV', 'LT', 'LU', 'MY', 'MT', 'MX', 'NL', 'NZ', 'NI', 'NO', 'PA', 'PY', 'PE', 'PH', 'PL', 'PT', 'SG', 'SK', 'ES', 'SE', 'CH', 'TW', 'TR', 'UY', 'US', 'GB', 'AD', 'LI', 'MC', 'ID', 'JP', 'TH', 'VN', 'RO', 'IL', 'ZA', 'SA', 'AE', 'BH', 'QA', 'OM', 'KW', 'EG', 'MA', 'DZ', 'TN', 'LB', 'JO', 'PS', 'IN', 'BY', 'KZ', 'MD', 'UA', 'AL', 'BA', 'HR', 'ME', 'MK', 'RS', 'SI', 'KR', 'BD', 'PK', 'LK', 'GH', 'KE', 'NG', 'TZ', 'UG', 'AG', 'AM', 'BS', 'BB', 'BZ', 'BT', 'BW', 'BF', 'CV', 'CW', 'DM', 'FJ', 'GM', 'GE', 'GD', 'GW', 'GY', 'HT', 'JM', 'KI', 'LS', 'LR', 'MW', 'MV', 'ML', 'MH', 'FM', 'NA', 'NR', 'NE', 'PW', 'PG', 'PR', 'WS', 'SM', 'ST', 'SN', 'SC', 'SL', 'SB', 'KN', 'LC', 'VC', 'SR', 'TL', 'TO', 'TT', 'TV', 'VU', 'AZ', 'BN', 'BI', 'KH', 'CM', 'TD', 'KM', 'GQ', 'SZ', 'GA', 'GN', 'KG', 'LA', 'MO', 'MR', 'MN', 'NP', 'RW', 'TG', 'UZ', 'ZW', 'BJ', 'MG', 'MU', 'MZ', 'AO', 'CI', 'DJ', 'ZM', 'CD', 'CG', 'IQ', 'LY', 'TJ', 'VE', 'ET', 'XK'], 'external_urls': {'spotify': 'https://open.spotify.com/album/3h3SMHaLlq2txt4EIghe8A'}, 'href': 'https://api.spotify.com/v1/albums/3h3SMHaLlq2txt4EIghe8A', 'id': '3h3SMHaLlq2txt4EIghe8A', 'images': [{'height': 640, 'url': 'https://i.scdn.co/image/ab67616d0000b273f8dea37b5946e76cc7c48911', 'width': 640}, {'height': 300, 'url': 'https://i.scdn.co/image/ab67616d00001e02f8dea37b5946e76cc7c48911', 'width': 300}, {'height': 64, 'url': 'https://i.scdn.co/image/ab67616d00004851f8dea37b5946e76cc7c48911', 'width': 64}], 'name': 'Slaying in Roblox', 'release_date': '2018-05-30', 'release_date_precision': 'day', 'total_tracks': 1, 'type': 'album', 'uri': 'spotify:album:3h3SMHaLlq2txt4EIghe8A'}, 'artists': [{'external_urls': {'spotify': 'https://open.spotify.com/artist/3j94aMUQbutvik3Kx2ZFWG'}, 'href': 'https://api.spotify.com/v1/artists/3j94aMUQbutvik3Kx2ZFWG', 'id': '3j94aMUQbutvik3Kx2ZFWG', 'name': 'Loginhdi', 'type': 'artist', 'uri': 'spotify:artist:3j94aMUQbutvik3Kx2ZFWG'}], 'available_markets': ['AR', 'AU', 'AT', 'BE', 'BO', 'BR', 'BG', 'CA', 'CL', 'CO', 'CR', 'CY', 'CZ', 'DK', 'DO', 'DE', 'EC', 'EE', 'SV', 'FI', 'FR', 'GR', 'GT', 'HN', 'HK', 'HU', 'IS', 'IE', 'IT', 'LV', 'LT', 'LU', 'MY', 'MT', 'MX', 'NL', 'NZ', 'NI', 'NO', 'PA', 'PY', 'PE', 'PH', 'PL', 'PT', 'SG', 'SK', 'ES', 'SE', 'CH', 'TW', 'TR', 'UY', 'US', 'GB', 'AD', 'LI', 'MC', 'ID', 'JP', 'TH', 'VN', 'RO', 'IL', 'ZA', 'SA', 'AE', 'BH', 'QA', 'OM', 'KW', 'EG', 'MA', 'DZ', 'TN', 'LB', 'JO', 'PS', 'IN', 'BY', 'KZ', 'MD', 'UA', 'AL', 'BA', 'HR', 'ME', 'MK', 'RS', 'SI', 'KR', 'BD', 'PK', 'LK', 'GH', 'KE', 'NG', 'TZ', 'UG', 'AG', 'AM', 'BS', 'BB', 'BZ', 'BT', 'BW', 'BF', 'CV', 'CW', 'DM', 'FJ', 'GM', 'GE', 'GD', 'GW', 'GY', 'HT', 'JM', 'KI', 'LS', 'LR', 'MW', 'MV', 'ML', 'MH', 'FM', 'NA', 'NR', 'NE', 'PW', 'PG', 'PR', 'WS', 'SM', 'ST', 'SN', 'SC', 'SL', 'SB', 'KN', 'LC', 'VC', 'SR', 'TL', 'TO', 'TT', 'TV', 'VU', 'AZ', 'BN', 'BI', 'KH', 'CM', 'TD', 'KM', 'GQ', 'SZ', 'GA', 'GN', 'KG', 'LA', 'MO', 'MR', 'MN', 'NP', 'RW', 'TG', 'UZ', 'ZW', 'BJ', 'MG', 'MU', 'MZ', 'AO', 'CI', 'DJ', 'ZM', 'CD', 'CG', 'IQ', 'LY', 'TJ', 'VE', 'ET', 'XK'], 'disc_number': 1, 'duration_ms': 223525, 'explicit': False, 'external_ids': {'isrc': 'TCADQ1887643'}, 'external_urls': {'spotify': 'https://open.spotify.com/track/2kDRWi9fG4Fpu1GkEOuDrg'}, 'href': 'https://api.spotify.com/v1/tracks/2kDRWi9fG4Fpu1GkEOuDrg', 'id': '2kDRWi9fG4Fpu1GkEOuDrg', 'is_local': False, 'name': 'Slaying in Roblox', 'popularity': 37, 'preview_url': 'https://p.scdn.co/mp3-preview/2a99fee0ff795301f187998513b3aaeed014b42d?cid=c21cede122dd4c1780e8f92025cd210f', 'track_number': 1, 'type': 'track', 'uri': 'spotify:track:2kDRWi9fG4Fpu1GkEOuDrg'}, {'album': {'album_type': 'single', 'artists': [{'external_urls': {'spotify': 'https://open.spotify.com/artist/5ZW1R5JS4WcZiDOmpfhS7d'}, 'href': 'https://api.spotify.com/v1/artists/5ZW1R5JS4WcZiDOmpfhS7d', 'id': '5ZW1R5JS4WcZiDOmpfhS7d', 'name': 'Lankybox', 'type': 'artist', 'uri': 'spotify:artist:5ZW1R5JS4WcZiDOmpfhS7d'}], 'available_markets': ['AR', 'AU', 'AT', 'BE', 'BO', 'BR', 'BG', 'CA', 'CL', 'CO', 'CR', 'CY', 'CZ', 'DK', 'DO', 'DE', 'EC', 'EE', 'SV', 'FI', 'FR', 'GR', 'GT', 'HN', 'HK', 'HU', 'IS', 'IE', 'IT', 'LV', 'LT', 'LU', 'MY', 'MT', 'MX', 'NL', 'NZ', 'NI', 'NO', 'PA', 'PY', 'PE', 'PH', 'PL', 'PT', 'SG', 'SK', 'ES', 'SE', 'CH', 'TW', 'TR', 'UY', 'US', 'GB', 'AD', 'LI', 'MC', 'ID', 'JP', 'TH', 'VN', 'RO', 'IL', 'ZA', 'SA', 'AE', 'BH', 'QA', 'OM', 'KW', 'EG', 'MA', 'DZ', 'TN', 'LB', 'JO', 'PS', 'IN', 'BY', 'KZ', 'MD', 'UA', 'AL', 'BA', 'HR', 'ME', 'MK', 'RS', 'SI', 'KR', 'BD', 'PK', 'LK', 'GH', 'KE', 'NG', 'TZ', 'UG', 'AG', 'AM', 'BS', 'BB', 'BZ', 'BT', 'BW', 'BF', 'CV', 'CW', 'DM', 'FJ', 'GM', 'GE', 'GD', 'GW', 'GY', 'HT', 'JM', 'KI', 'LS', 'LR', 'MW', 'MV', 'ML', 'MH', 'FM', 'NA', 'NR', 'NE', 'PW', 'PG', 'PR', 'WS', 'SM', 'ST', 'SN', 'SC', 'SL', 'SB', 'KN', 'LC', 'VC', 'SR', 'TL', 'TO', 'TT', 'TV', 'VU', 'AZ', 'BN', 'BI', 'KH', 'CM', 'TD', 'KM', 'GQ', 'SZ', 'GA', 'GN', 'KG', 'LA', 'MO', 'MR', 'MN', 'NP', 'RW', 'TG', 'UZ', 'ZW', 'BJ', 'MG', 'MU', 'MZ', 'AO', 'CI', 'DJ', 'ZM', 'CD', 'CG', 'IQ', 'LY', 'TJ', 'VE', 'ET', 'XK'], 'external_urls': {'spotify': 'https://open.spotify.com/album/6muNKrLdhLIYKUei8ta1qT'}, 'href': 'https://api.spotify.com/v1/albums/6muNKrLdhLIYKUei8ta1qT', 'id': '6muNKrLdhLIYKUei8ta1qT', 'images': [{'height': 640, 'url': 'https://i.scdn.co/image/ab67616d0000b273d9acc151236951e96873d106', 'width': 640}, {'height': 300, 'url': 'https://i.scdn.co/image/ab67616d00001e02d9acc151236951e96873d106', 'width': 300}, {'height': 64, 'url': 'https://i.scdn.co/image/ab67616d00004851d9acc151236951e96873d106', 'width': 64}], 'name': 'The Roblox Song', 'release_date': '2022-06-11', 'release_date_precision': 'day', 'total_tracks': 1, 'type': 'album', 'uri': 'spotify:album:6muNKrLdhLIYKUei8ta1qT'}, 'artists': [{'external_urls': {'spotify': 'https://open.spotify.com/artist/5ZW1R5JS4WcZiDOmpfhS7d'}, 'href': 'https://api.spotify.com/v1/artists/5ZW1R5JS4WcZiDOmpfhS7d', 'id': '5ZW1R5JS4WcZiDOmpfhS7d', 'name': 'Lankybox', 'type': 'artist', 'uri': 'spotify:artist:5ZW1R5JS4WcZiDOmpfhS7d'}], 'available_markets': ['AR', 'AU', 'AT', 'BE', 'BO', 'BR', 'BG', 'CA', 'CL', 'CO', 'CR', 'CY', 'CZ', 'DK', 'DO', 'DE', 'EC', 'EE', 'SV', 'FI', 'FR', 'GR', 'GT', 'HN', 'HK', 'HU', 'IS', 'IE', 'IT', 'LV', 'LT', 'LU', 'MY', 'MT', 'MX', 'NL', 'NZ', 'NI', 'NO', 'PA', 'PY', 'PE', 'PH', 'PL', 'PT', 'SG', 'SK', 'ES', 'SE', 'CH', 'TW', 'TR', 'UY', 'US', 'GB', 'AD', 'LI', 'MC', 'ID', 'JP', 'TH', 'VN', 'RO', 'IL', 'ZA', 'SA', 'AE', 'BH', 'QA', 'OM', 'KW', 'EG', 'MA', 'DZ', 'TN', 'LB', 'JO', 'PS', 'IN', 'BY', 'KZ', 'MD', 'UA', 'AL', 'BA', 'HR', 'ME', 'MK', 'RS', 'SI', 'KR', 'BD', 'PK', 'LK', 'GH', 'KE', 'NG', 'TZ', 'UG', 'AG', 'AM', 'BS', 'BB', 'BZ', 'BT', 'BW', 'BF', 'CV', 'CW', 'DM', 'FJ', 'GM', 'GE', 'GD', 'GW', 'GY', 'HT', 'JM', 'KI', 'LS', 'LR', 'MW', 'MV', 'ML', 'MH', 'FM', 'NA', 'NR', 'NE', 'PW', 'PG', 'PR', 'WS', 'SM', 'ST', 'SN', 'SC', 'SL', 'SB', 'KN', 'LC', 'VC', 'SR', 'TL', 'TO', 'TT', 'TV', 'VU', 'AZ', 'BN', 'BI', 'KH', 'CM', 'TD', 'KM', 'GQ', 'SZ', 'GA', 'GN', 'KG', 'LA', 'MO', 'MR', 'MN', 'NP', 'RW', 'TG', 'UZ', 'ZW', 'BJ', 'MG', 'MU', 'MZ', 'AO', 'CI', 'DJ', 'ZM', 'CD', 'CG', 'IQ', 'LY', 'TJ', 'VE', 'ET', 'XK'], 'disc_number': 1, 'duration_ms': 176363, 'explicit': False, 'external_ids': {'isrc': 'QZK6M2212622'}, 'external_urls': {'spotify': 'https://open.spotify.com/track/1Jtmf1gPFCGxCQ3ECacxBM'}, 'href': 'https://api.spotify.com/v1/tracks/1Jtmf1gPFCGxCQ3ECacxBM', 'id': '1Jtmf1gPFCGxCQ3ECacxBM', 'is_local': False, 'name': 'The Roblox Song', 'popularity': 35, 'preview_url': 'https://p.scdn.co/mp3-preview/ab6de1fbffc9d5451d862b2162b525425cf1e6c1?cid=c21cede122dd4c1780e8f92025cd210f', 'track_number': 1, 'type': 'track', 'uri': 'spotify:track:1Jtmf1gPFCGxCQ3ECacxBM'}, {'album': {'album_type': 'single', 'artists': [{'external_urls': {'spotify': 'https://open.spotify.com/artist/7jkUG7asv5cjORIh769EvG'}, 'href': 'https://api.spotify.com/v1/artists/7jkUG7asv5cjORIh769EvG', 'id': '7jkUG7asv5cjORIh769EvG', 'name': 'Misutra', 'type': 'artist', 'uri': 'spotify:artist:7jkUG7asv5cjORIh769EvG'}], 'available_markets': ['AR', 'AU', 'AT', 'BE', 'BO', 'BR', 'BG', 'CA', 'CL', 'CO', 'CR', 'CY', 'CZ', 'DK', 'DO', 'DE', 'EC', 'EE', 'SV', 'FI', 'FR', 'GR', 'GT', 'HN', 'HK', 'HU', 'IS', 'IE', 'IT', 'LV', 'LT', 'LU', 'MY', 'MT', 'MX', 'NL', 'NZ', 'NI', 'NO', 'PA', 'PY', 'PE', 'PH', 'PL', 'PT', 'SG', 'SK', 'ES', 'SE', 'CH', 'TW', 'TR', 'UY', 'US', 'GB', 'AD', 'LI', 'MC', 'ID', 'JP', 'TH', 'VN', 'RO', 'IL', 'ZA', 'SA', 'AE', 'BH', 'QA', 'OM', 'KW', 'EG', 'MA', 'DZ', 'TN', 'LB', 'JO', 'PS', 'IN', 'BY', 'KZ', 'MD', 'UA', 'AL', 'BA', 'HR', 'ME', 'MK', 'RS', 'SI', 'KR', 'BD', 'PK', 'LK', 'GH', 'KE', 'NG', 'TZ', 'UG', 'AG', 'AM', 'BS', 'BB', 'BZ', 'BT', 'BW', 'BF', 'CV', 'CW', 'DM', 'FJ', 'GM', 'GE', 'GD', 'GW', 'GY', 'HT', 'JM', 'KI', 'LS', 'LR', 'MW', 'MV', 'ML', 'MH', 'FM', 'NA', 'NR', 'NE', 'PW', 'PG', 'PR', 'WS', 'SM', 'ST', 'SN', 'SC', 'SL', 'SB', 'KN', 'LC', 'VC', 'SR', 'TL', 'TO', 'TT', 'TV', 'VU', 'AZ', 'BN', 'BI', 'KH', 'CM', 'TD', 'KM', 'GQ', 'SZ', 'GA', 'GN', 'KG', 'LA', 'MO', 'MR', 'MN', 'NP', 'RW', 'TG', 'UZ', 'ZW', 'BJ', 'MG', 'MU', 'MZ', 'AO', 'CI', 'DJ', 'ZM', 'CD', 'CG', 'IQ', 'LY', 'TJ', 'VE', 'ET', 'XK'], 'external_urls': {'spotify': 'https://open.spotify.com/album/1eaGqERfrvAOU1FFu7fgZF'}, 'href': 'https://api.spotify.com/v1/albums/1eaGqERfrvAOU1FFu7fgZF', 'id': '1eaGqERfrvAOU1FFu7fgZF', 'images': [{'height': 640, 'url': 'https://i.scdn.co/image/ab67616d0000b2733eaeeedb8bf61a76eab17d58', 'width': 640}, {'height': 300, 'url': 'https://i.scdn.co/image/ab67616d00001e023eaeeedb8bf61a76eab17d58', 'width': 300}, {'height': 64, 'url': 'https://i.scdn.co/image/ab67616d000048513eaeeedb8bf61a76eab17d58', 'width': 64}], 'name': 'Roblox NEW DEATH SOUND Song', 'release_date': '2022-07-31', 'release_date_precision': 'day', 'total_tracks': 1, 'type': 'album', 'uri': 'spotify:album:1eaGqERfrvAOU1FFu7fgZF'}, 'artists': [{'external_urls': {'spotify': 'https://open.spotify.com/artist/7jkUG7asv5cjORIh769EvG'}, 'href': 'https://api.spotify.com/v1/artists/7jkUG7asv5cjORIh769EvG', 'id': '7jkUG7asv5cjORIh769EvG', 'name': 'Misutra', 'type': 'artist', 'uri': 'spotify:artist:7jkUG7asv5cjORIh769EvG'}], 'available_markets': ['AR', 'AU', 'AT', 'BE', 'BO', 'BR', 'BG', 'CA', 'CL', 'CO', 'CR', 'CY', 'CZ', 'DK', 'DO', 'DE', 'EC', 'EE', 'SV', 'FI', 'FR', 'GR', 'GT', 'HN', 'HK', 'HU', 'IS', 'IE', 'IT', 'LV', 'LT', 'LU', 'MY', 'MT', 'MX', 'NL', 'NZ', 'NI', 'NO', 'PA', 'PY', 'PE', 'PH', 'PL', 'PT', 'SG', 'SK', 'ES', 'SE', 'CH', 'TW', 'TR', 'UY', 'US', 'GB', 'AD', 'LI', 'MC', 'ID', 'JP', 'TH', 'VN', 'RO', 'IL', 'ZA', 'SA', 'AE', 'BH', 'QA', 'OM', 'KW', 'EG', 'MA', 'DZ', 'TN', 'LB', 'JO', 'PS', 'IN', 'BY', 'KZ', 'MD', 'UA', 'AL', 'BA', 'HR', 'ME', 'MK', 'RS', 'SI', 'KR', 'BD', 'PK', 'LK', 'GH', 'KE', 'NG', 'TZ', 'UG', 'AG', 'AM', 'BS', 'BB', 'BZ', 'BT', 'BW', 'BF', 'CV', 'CW', 'DM', 'FJ', 'GM', 'GE', 'GD', 'GW', 'GY', 'HT', 'JM', 'KI', 'LS', 'LR', 'MW', 'MV', 'ML', 'MH', 'FM', 'NA', 'NR', 'NE', 'PW', 'PG', 'PR', 'WS', 'SM', 'ST', 'SN', 'SC', 'SL', 'SB', 'KN', 'LC', 'VC', 'SR', 'TL', 'TO', 'TT', 'TV', 'VU', 'AZ', 'BN', 'BI', 'KH', 'CM', 'TD', 'KM', 'GQ', 'SZ', 'GA', 'GN', 'KG', 'LA', 'MO', 'MR', 'MN', 'NP', 'RW', 'TG', 'UZ', 'ZW', 'BJ', 'MG', 'MU', 'MZ', 'AO', 'CI', 'DJ', 'ZM', 'CD', 'CG', 'IQ', 'LY', 'TJ', 'VE', 'ET', 'XK'], 'disc_number': 1, 'duration_ms': 195692, 'explicit': False, 'external_ids': {'isrc': 'QZMEQ2238286'}, 'external_urls': {'spotify': 'https://open.spotify.com/track/3bOfPDEW0gJnwNBiEOWAMz'}, 'href': 'https://api.spotify.com/v1/tracks/3bOfPDEW0gJnwNBiEOWAMz', 'id': '3bOfPDEW0gJnwNBiEOWAMz', 'is_local': False, 'name': 'Roblox NEW DEATH SOUND Song', 'popularity': 36, 'preview_url': 'https://p.scdn.co/mp3-preview/a26cdc0af56509157e9e37da206c794e0e997a83?cid=c21cede122dd4c1780e8f92025cd210f', 'track_number': 1, 'type': 'track', 'uri': 'spotify:track:3bOfPDEW0gJnwNBiEOWAMz'}, {'album': {'album_type': 'single', 'artists': [{'external_urls': {'spotify': 'https://open.spotify.com/artist/5fYpjzyIlOPN39ALSPv7fG'}, 'href': 'https://api.spotify.com/v1/artists/5fYpjzyIlOPN39ALSPv7fG', 'id': '5fYpjzyIlOPN39ALSPv7fG', 'name': 'Mr Miln', 'type': 'artist', 'uri': 'spotify:artist:5fYpjzyIlOPN39ALSPv7fG'}], 'available_markets': ['AR', 'AU', 'AT', 'BE', 'BO', 'BR', 'BG', 'CA', 'CL', 'CO', 'CR', 'CY', 'CZ', 'DK', 'DO', 'DE', 'EC', 'EE', 'SV', 'FI', 'FR', 'GR', 'GT', 'HN', 'HK', 'HU', 'IS', 'IE', 'IT', 'LV', 'LT', 'LU', 'MY', 'MT', 'MX', 'NL', 'NZ', 'NI', 'NO', 'PA', 'PY', 'PE', 'PH', 'PL', 'PT', 'SG', 'SK', 'ES', 'SE', 'CH', 'TW', 'TR', 'UY', 'US', 'GB', 'AD', 'LI', 'MC', 'ID', 'JP', 'TH', 'VN', 'RO', 'IL', 'ZA', 'SA', 'AE', 'BH', 'QA', 'OM', 'KW', 'EG', 'MA', 'DZ', 'TN', 'LB', 'JO', 'PS', 'IN', 'BY', 'KZ', 'MD', 'UA', 'AL', 'BA', 'HR', 'ME', 'MK', 'RS', 'SI', 'KR', 'BD', 'PK', 'LK', 'GH', 'KE', 'NG', 'TZ', 'UG', 'AG', 'AM', 'BS', 'BB', 'BZ', 'BT', 'BW', 'BF', 'CV', 'CW', 'DM', 'FJ', 'GM', 'GE', 'GD', 'GW', 'GY', 'HT', 'JM', 'KI', 'LS', 'LR', 'MW', 'MV', 'ML', 'MH', 'FM', 'NA', 'NR', 'NE', 'PW', 'PG', 'PR', 'WS', 'SM', 'ST', 'SN', 'SC', 'SL', 'SB', 'KN', 'LC', 'VC', 'SR', 'TL', 'TO', 'TT', 'TV', 'VU', 'AZ', 'BN', 'BI', 'KH', 'CM', 'TD', 'KM', 'GQ', 'SZ', 'GA', 'GN', 'KG', 'LA', 'MO', 'MR', 'MN', 'NP', 'RW', 'TG', 'UZ', 'ZW', 'BJ', 'MG', 'MU', 'MZ', 'AO', 'CI', 'DJ', 'ZM', 'CD', 'CG', 'IQ', 'LY', 'TJ', 'VE', 'ET', 'XK'], 'external_urls': {'spotify': 'https://open.spotify.com/album/6KKbni6axIq1zLV11B5N79'}, 'href': 'https://api.spotify.com/v1/albums/6KKbni6axIq1zLV11B5N79', 'id': '6KKbni6axIq1zLV11B5N79', 'images': [{'height': 640, 'url': 'https://i.scdn.co/image/ab67616d0000b27396e2c657d81dc84e655da981', 'width': 640}, {'height': 300, 'url': 'https://i.scdn.co/image/ab67616d00001e0296e2c657d81dc84e655da981', 'width': 300}, {'height': 64, 'url': 'https://i.scdn.co/image/ab67616d0000485196e2c657d81dc84e655da981', 'width': 64}], 'name': 'Robloxian Struggles (Playing Without Robux)', 'release_date': '2019-05-11', 'release_date_precision': 'day', 'total_tracks': 1, 'type': 'album', 'uri': 'spotify:album:6KKbni6axIq1zLV11B5N79'}, 'artists': [{'external_urls': {'spotify': 'https://open.spotify.com/artist/5fYpjzyIlOPN39ALSPv7fG'}, 'href': 'https://api.spotify.com/v1/artists/5fYpjzyIlOPN39ALSPv7fG', 'id': '5fYpjzyIlOPN39ALSPv7fG', 'name': 'Mr Miln', 'type': 'artist', 'uri': 'spotify:artist:5fYpjzyIlOPN39ALSPv7fG'}], 'available_markets': ['AR', 'AU', 'AT', 'BE', 'BO', 'BR', 'BG', 'CA', 'CL', 'CO', 'CR', 'CY', 'CZ', 'DK', 'DO', 'DE', 'EC', 'EE', 'SV', 'FI', 'FR', 'GR', 'GT', 'HN', 'HK', 'HU', 'IS', 'IE', 'IT', 'LV', 'LT', 'LU', 'MY', 'MT', 'MX', 'NL', 'NZ', 'NI', 'NO', 'PA', 'PY', 'PE', 'PH', 'PL', 'PT', 'SG', 'SK', 'ES', 'SE', 'CH', 'TW', 'TR', 'UY', 'US', 'GB', 'AD', 'LI', 'MC', 'ID', 'JP', 'TH', 'VN', 'RO', 'IL', 'ZA', 'SA', 'AE', 'BH', 'QA', 'OM', 'KW', 'EG', 'MA', 'DZ', 'TN', 'LB', 'JO', 'PS', 'IN', 'BY', 'KZ', 'MD', 'UA', 'AL', 'BA', 'HR', 'ME', 'MK', 'RS', 'SI', 'KR', 'BD', 'PK', 'LK', 'GH', 'KE', 'NG', 'TZ', 'UG', 'AG', 'AM', 'BS', 'BB', 'BZ', 'BT', 'BW', 'BF', 'CV', 'CW', 'DM', 'FJ', 'GM', 'GE', 'GD', 'GW', 'GY', 'HT', 'JM', 'KI', 'LS', 'LR', 'MW', 'MV', 'ML', 'MH', 'FM', 'NA', 'NR', 'NE', 'PW', 'PG', 'PR', 'WS', 'SM', 'ST', 'SN', 'SC', 'SL', 'SB', 'KN', 'LC', 'VC', 'SR', 'TL', 'TO', 'TT', 'TV', 'VU', 'AZ', 'BN', 'BI', 'KH', 'CM', 'TD', 'KM', 'GQ', 'SZ', 'GA', 'GN', 'KG', 'LA', 'MO', 'MR', 'MN', 'NP', 'RW', 'TG', 'UZ', 'ZW', 'BJ', 'MG', 'MU', 'MZ', 'AO', 'CI', 'DJ', 'ZM', 'CD', 'CG', 'IQ', 'LY', 'TJ', 'VE', 'ET', 'XK'], 'disc_number': 1, 'duration_ms': 161937, 'explicit': False, 'external_ids': {'isrc': 'QZES91913762'}, 'external_urls': {'spotify': 'https://open.spotify.com/track/2CZQ1guWGFtAXrbDP6eZzj'}, 'href': 'https://api.spotify.com/v1/tracks/2CZQ1guWGFtAXrbDP6eZzj', 'id': '2CZQ1guWGFtAXrbDP6eZzj', 'is_local': False, 'name': 'Robloxian Struggles (Playing Without Robux)', 'popularity': 37, 'preview_url': 'https://p.scdn.co/mp3-preview/5bafac0004065a9f96fd6042ec0d9aa530c181dc?cid=c21cede122dd4c1780e8f92025cd210f', 'track_number': 1, 'type': 'track', 'uri': 'spotify:track:2CZQ1guWGFtAXrbDP6eZzj'}, {'album': {'album_type': 'album', 'artists': [{'external_urls': {'spotify': 'https://open.spotify.com/artist/5ooAHetwsdFoL1RaRcfDXG'}, 'href': 'https://api.spotify.com/v1/artists/5ooAHetwsdFoL1RaRcfDXG', 'id': '5ooAHetwsdFoL1RaRcfDXG', 'name': 'James Clarke', 'type': 'artist', 'uri': 'spotify:artist:5ooAHetwsdFoL1RaRcfDXG'}], 'available_markets': ['AR', 'AU', 'AT', 'BE', 'BO', 'BR', 'BG', 'CA', 'CL', 'CO', 'CR', 'CY', 'CZ', 'DK', 'DO', 'DE', 'EC', 'EE', 'SV', 'FI', 'FR', 'GR', 'GT', 'HN', 'HK', 'HU', 'IS', 'IE', 'IT', 'LV', 'LT', 'LU', 'MT', 'MX', 'NL', 'NZ', 'NI', 'NO', 'PA', 'PY', 'PE', 'PL', 'PT', 'SK', 'ES', 'SE', 'CH', 'TW', 'TR', 'UY', 'US', 'GB', 'AD', 'LI', 'MC', 'JP', 'VN', 'RO', 'IL', 'ZA', 'SA', 'AE', 'BH', 'QA', 'OM', 'KW', 'EG', 'MA', 'DZ', 'TN', 'LB', 'JO', 'PS', 'IN', 'BY', 'KZ', 'MD', 'UA', 'AL', 'BA', 'HR', 'ME', 'MK', 'RS', 'SI', 'KR', 'BD', 'PK', 'LK', 'GH', 'KE', 'NG', 'TZ', 'UG', 'AG', 'AM', 'BS', 'BB', 'BZ', 'BT', 'BW', 'BF', 'CV', 'CW', 'DM', 'FJ', 'GM', 'GE', 'GD', 'GW', 'GY', 'HT', 'JM', 'KI', 'LS', 'LR', 'MW', 'MV', 'ML', 'MH', 'FM', 'NA', 'NR', 'NE', 'PW', 'PG', 'PR', 'WS', 'SM', 'ST', 'SN', 'SC', 'SL', 'SB', 'KN', 'LC', 'VC', 'SR', 'TL', 'TO', 'TT', 'TV', 'VU', 'AZ', 'BN', 'BI', 'KH', 'CM', 'TD', 'KM', 'GQ', 'SZ', 'GA', 'GN', 'KG', 'LA', 'MO', 'MR', 'MN', 'NP', 'RW', 'TG', 'UZ', 'ZW', 'BJ', 'MG', 'MU', 'MZ', 'AO', 'CI', 'DJ', 'ZM', 'CD', 'CG', 'IQ', 'LY', 'TJ', 'VE', 'ET', 'XK'], 'external_urls': {'spotify': 'https://open.spotify.com/album/1e2d38jAhV06cuOPKMADbb'}, 'href': 'https://api.spotify.com/v1/albums/1e2d38jAhV06cuOPKMADbb', 'id': '1e2d38jAhV06cuOPKMADbb', 'images': [{'height': 640, 'url': 'https://i.scdn.co/image/ab67616d0000b273c8c0630072c1301bc8ae7a1f', 'width': 640}, {'height': 300, 'url': 'https://i.scdn.co/image/ab67616d00001e02c8c0630072c1301bc8ae7a1f', 'width': 300}, {'height': 64, 'url': 'https://i.scdn.co/image/ab67616d00004851c8c0630072c1301bc8ae7a1f', 'width': 64}], 'name': 'Mystery Movie', 'release_date': '1976-01-01', 'release_date_precision': 'day', 'total_tracks': 17, 'type': 'album', 'uri': 'spotify:album:1e2d38jAhV06cuOPKMADbb'}, 'artists': [{'external_urls': {'spotify': 'https://open.spotify.com/artist/5ooAHetwsdFoL1RaRcfDXG'}, 'href': 'https://api.spotify.com/v1/artists/5ooAHetwsdFoL1RaRcfDXG', 'id': '5ooAHetwsdFoL1RaRcfDXG', 'name': 'James Clarke', 'type': 'artist', 'uri': 'spotify:artist:5ooAHetwsdFoL1RaRcfDXG'}], 'available_markets': ['AR', 'AU', 'AT', 'BE', 'BO', 'BR', 'BG', 'CA', 'CL', 'CO', 'CR', 'CY', 'CZ', 'DK', 'DO', 'DE', 'EC', 'EE', 'SV', 'FI', 'FR', 'GR', 'GT', 'HN', 'HK', 'HU', 'IS', 'IE', 'IT', 'LV', 'LT', 'LU', 'MT', 'MX', 'NL', 'NZ', 'NI', 'NO', 'PA', 'PY', 'PE', 'PL', 'PT', 'SK', 'ES', 'SE', 'CH', 'TW', 'TR', 'UY', 'US', 'GB', 'AD', 'LI', 'MC', 'JP', 'VN', 'RO', 'IL', 'ZA', 'SA', 'AE', 'BH', 'QA', 'OM', 'KW', 'EG', 'MA', 'DZ', 'TN', 'LB', 'JO', 'PS', 'IN', 'BY', 'KZ', 'MD', 'UA', 'AL', 'BA', 'HR', 'ME', 'MK', 'RS', 'SI', 'KR', 'BD', 'PK', 'LK', 'GH', 'KE', 'NG', 'TZ', 'UG', 'AG', 'AM', 'BS', 'BB', 'BZ', 'BT', 'BW', 'BF', 'CV', 'CW', 'DM', 'FJ', 'GM', 'GE', 'GD', 'GW', 'GY', 'HT', 'JM', 'KI', 'LS', 'LR', 'MW', 'MV', 'ML', 'MH', 'FM', 'NA', 'NR', 'NE', 'PW', 'PG', 'PR', 'WS', 'SM', 'ST', 'SN', 'SC', 'SL', 'SB', 'KN', 'LC', 'VC', 'SR', 'TL', 'TO', 'TT', 'TV', 'VU', 'AZ', 'BN', 'BI', 'KH', 'CM', 'TD', 'KM', 'GQ', 'SZ', 'GA', 'GN', 'KG', 'LA', 'MO', 'MR', 'MN', 'NP', 'RW', 'TG', 'UZ', 'ZW', 'BJ', 'MG', 'MU', 'MZ', 'AO', 'CI', 'DJ', 'ZM', 'CD', 'CG', 'IQ', 'LY', 'TJ', 'VE', 'ET', 'XK'], 'disc_number': 1, 'duration_ms': 97024, 'explicit': False, 'external_ids': {'isrc': 'GBBHS7400063'}, 'external_urls': {'spotify': 'https://open.spotify.com/track/7oZMxikk5ISnp4pDjwtvQ7'}, 'href': 'https://api.spotify.com/v1/tracks/7oZMxikk5ISnp4pDjwtvQ7', 'id': '7oZMxikk5ISnp4pDjwtvQ7', 'is_local': False, 'name': 'Relaxed Scene', 'popularity': 65, 'preview_url': 'https://p.scdn.co/mp3-preview/35aced188680d6372467241dcee20ad25f7c0b0f?cid=c21cede122dd4c1780e8f92025cd210f', 'track_number': 15, 'type': 'track', 'uri': 'spotify:track:7oZMxikk5ISnp4pDjwtvQ7'}, {'album': {'album_type': 'album', 'artists': [{'external_urls': {'spotify': 'https://open.spotify.com/artist/64JnTLWu6BRluLTlgge3FB'}, 'href': 'https://api.spotify.com/v1/artists/64JnTLWu6BRluLTlgge3FB', 'id': '64JnTLWu6BRluLTlgge3FB', 'name': 'Uglyburger0', 'type': 'artist', 'uri': 'spotify:artist:64JnTLWu6BRluLTlgge3FB'}], 'available_markets': ['AR', 'AU', 'AT', 'BE', 'BO', 'BR', 'BG', 'CA', 'CL', 'CO', 'CR', 'CY', 'CZ', 'DK', 'DO', 'DE', 'EC', 'EE', 'SV', 'FI', 'FR', 'GR', 'GT', 'HN', 'HK', 'HU', 'IS', 'IE', 'IT', 'LV', 'LT', 'LU', 'MY', 'MT', 'MX', 'NL', 'NZ', 'NI', 'NO', 'PA', 'PY', 'PE', 'PH', 'PL', 'PT', 'SG', 'SK', 'ES', 'SE', 'CH', 'TW', 'TR', 'UY', 'US', 'GB', 'AD', 'LI', 'MC', 'ID', 'JP', 'TH', 'VN', 'RO', 'IL', 'ZA', 'SA', 'AE', 'BH', 'QA', 'OM', 'KW', 'EG', 'MA', 'DZ', 'TN', 'LB', 'JO', 'PS', 'IN', 'BY', 'KZ', 'MD', 'UA', 'AL', 'BA', 'HR', 'ME', 'MK', 'RS', 'SI', 'KR', 'BD', 'PK', 'LK', 'GH', 'KE', 'NG', 'TZ', 'UG', 'AG', 'AM', 'BS', 'BB', 'BZ', 'BT', 'BW', 'BF', 'CV', 'CW', 'DM', 'FJ', 'GM', 'GE', 'GD', 'GW', 'GY', 'HT', 'JM', 'KI', 'LS', 'LR', 'MW', 'MV', 'ML', 'MH', 'FM', 'NA', 'NR', 'NE', 'PW', 'PG', 'PR', 'WS', 'SM', 'ST', 'SN', 'SC', 'SL', 'SB', 'KN', 'LC', 'VC', 'SR', 'TL', 'TO', 'TT', 'TV', 'VU', 'AZ', 'BN', 'BI', 'KH', 'CM', 'TD', 'KM', 'GQ', 'SZ', 'GA', 'GN', 'KG', 'LA', 'MO', 'MR', 'MN', 'NP', 'RW', 'TG', 'UZ', 'ZW', 'BJ', 'MG', 'MU', 'MZ', 'AO', 'CI', 'DJ', 'ZM', 'CD', 'CG', 'IQ', 'LY', 'TJ', 'VE', 'ET', 'XK'], 'external_urls': {'spotify': 'https://open.spotify.com/album/0coVTwj8xht3SmyIjkdkkx'}, 'href': 'https://api.spotify.com/v1/albums/0coVTwj8xht3SmyIjkdkkx', 'id': '0coVTwj8xht3SmyIjkdkkx', 'images': [{'height': 640, 'url': 'https://i.scdn.co/image/ab67616d0000b2730bae9455b021575abfa49831', 'width': 640}, {'height': 300, 'url': 'https://i.scdn.co/image/ab67616d00001e020bae9455b021575abfa49831', 'width': 300}, {'height': 64, 'url': 'https://i.scdn.co/image/ab67616d000048510bae9455b021575abfa49831', 'width': 64}], 'name': 'Roblox 3008, Vol. 1 (Original Soundtrack)', 'release_date': '2020-09-03', 'release_date_precision': 'day', 'total_tracks': 11, 'type': 'album', 'uri': 'spotify:album:0coVTwj8xht3SmyIjkdkkx'}, 'artists': [{'external_urls': {'spotify': 'https://open.spotify.com/artist/64JnTLWu6BRluLTlgge3FB'}, 'href': 'https://api.spotify.com/v1/artists/64JnTLWu6BRluLTlgge3FB', 'id': '64JnTLWu6BRluLTlgge3FB', 'name': 'Uglyburger0', 'type': 'artist', 'uri': 'spotify:artist:64JnTLWu6BRluLTlgge3FB'}], 'available_markets': ['AR', 'AU', 'AT', 'BE', 'BO', 'BR', 'BG', 'CA', 'CL', 'CO', 'CR', 'CY', 'CZ', 'DK', 'DO', 'DE', 'EC', 'EE', 'SV', 'FI', 'FR', 'GR', 'GT', 'HN', 'HK', 'HU', 'IS', 'IE', 'IT', 'LV', 'LT', 'LU', 'MY', 'MT', 'MX', 'NL', 'NZ', 'NI', 'NO', 'PA', 'PY', 'PE', 'PH', 'PL', 'PT', 'SG', 'SK', 'ES', 'SE', 'CH', 'TW', 'TR', 'UY', 'US', 'GB', 'AD', 'LI', 'MC', 'ID', 'JP', 'TH', 'VN', 'RO', 'IL', 'ZA', 'SA', 'AE', 'BH', 'QA', 'OM', 'KW', 'EG', 'MA', 'DZ', 'TN', 'LB', 'JO', 'PS', 'IN', 'BY', 'KZ', 'MD', 'UA', 'AL', 'BA', 'HR', 'ME', 'MK', 'RS', 'SI', 'KR', 'BD', 'PK', 'LK', 'GH', 'KE', 'NG', 'TZ', 'UG', 'AG', 'AM', 'BS', 'BB', 'BZ', 'BT', 'BW', 'BF', 'CV', 'CW', 'DM', 'FJ', 'GM', 'GE', 'GD', 'GW', 'GY', 'HT', 'JM', 'KI', 'LS', 'LR', 'MW', 'MV', 'ML', 'MH', 'FM', 'NA', 'NR', 'NE', 'PW', 'PG', 'PR', 'WS', 'SM', 'ST', 'SN', 'SC', 'SL', 'SB', 'KN', 'LC', 'VC', 'SR', 'TL', 'TO', 'TT', 'TV', 'VU', 'AZ', 'BN', 'BI', 'KH', 'CM', 'TD', 'KM', 'GQ', 'SZ', 'GA', 'GN', 'KG', 'LA', 'MO', 'MR', 'MN', 'NP', 'RW', 'TG', 'UZ', 'ZW', 'BJ', 'MG', 'MU', 'MZ', 'AO', 'CI', 'DJ', 'ZM', 'CD', 'CG', 'IQ', 'LY', 'TJ', 'VE', 'ET', 'XK'], 'disc_number': 1, 'duration_ms': 81711, 'explicit': False, 'external_ids': {'isrc': 'QZK6K2056438'}, 'external_urls': {'spotify': 'https://open.spotify.com/track/6ZPcH0qapLpoVaiV3qgsmv'}, 'href': 'https://api.spotify.com/v1/tracks/6ZPcH0qapLpoVaiV3qgsmv', 'id': '6ZPcH0qapLpoVaiV3qgsmv', 'is_local': False, 'name': 'Friday Theme', 'popularity': 62, 'preview_url': 'https://p.scdn.co/mp3-preview/38a61507887d89a80988b648dd62767adeaa2544?cid=c21cede122dd4c1780e8f92025cd210f', 'track_number': 5, 'type': 'track', 'uri': 'spotify:track:6ZPcH0qapLpoVaiV3qgsmv'}, {'album': {'album_type': 'album', 'artists': [{'external_urls': {'spotify': 'https://open.spotify.com/artist/64JnTLWu6BRluLTlgge3FB'}, 'href': 'https://api.spotify.com/v1/artists/64JnTLWu6BRluLTlgge3FB', 'id': '64JnTLWu6BRluLTlgge3FB', 'name': 'Uglyburger0', 'type': 'artist', 'uri': 'spotify:artist:64JnTLWu6BRluLTlgge3FB'}], 'available_markets': ['AR', 'AU', 'AT', 'BE', 'BO', 'BR', 'BG', 'CA', 'CL', 'CO', 'CR', 'CY', 'CZ', 'DK', 'DO', 'DE', 'EC', 'EE', 'SV', 'FI', 'FR', 'GR', 'GT', 'HN', 'HK', 'HU', 'IS', 'IE', 'IT', 'LV', 'LT', 'LU', 'MY', 'MT', 'MX', 'NL', 'NZ', 'NI', 'NO', 'PA', 'PY', 'PE', 'PH', 'PL', 'PT', 'SG', 'SK', 'ES', 'SE', 'CH', 'TW', 'TR', 'UY', 'US', 'GB', 'AD', 'LI', 'MC', 'ID', 'JP', 'TH', 'VN', 'RO', 'IL', 'ZA', 'SA', 'AE', 'BH', 'QA', 'OM', 'KW', 'EG', 'MA', 'DZ', 'TN', 'LB', 'JO', 'PS', 'IN', 'BY', 'KZ', 'MD', 'UA', 'AL', 'BA', 'HR', 'ME', 'MK', 'RS', 'SI', 'KR', 'BD', 'PK', 'LK', 'GH', 'KE', 'NG', 'TZ', 'UG', 'AG', 'AM', 'BS', 'BB', 'BZ', 'BT', 'BW', 'BF', 'CV', 'CW', 'DM', 'FJ', 'GM', 'GE', 'GD', 'GW', 'GY', 'HT', 'JM', 'KI', 'LS', 'LR', 'MW', 'MV', 'ML', 'MH', 'FM', 'NA', 'NR', 'NE', 'PW', 'PG', 'PR', 'WS', 'SM', 'ST', 'SN', 'SC', 'SL', 'SB', 'KN', 'LC', 'VC', 'SR', 'TL', 'TO', 'TT', 'TV', 'VU', 'AZ', 'BN', 'BI', 'KH', 'CM', 'TD', 'KM', 'GQ', 'SZ', 'GA', 'GN', 'KG', 'LA', 'MO', 'MR', 'MN', 'NP', 'RW', 'TG', 'UZ', 'ZW', 'BJ', 'MG', 'MU', 'MZ', 'AO', 'CI', 'DJ', 'ZM', 'CD', 'CG', 'IQ', 'LY', 'TJ', 'VE', 'ET', 'XK'], 'external_urls': {'spotify': 'https://open.spotify.com/album/0coVTwj8xht3SmyIjkdkkx'}, 'href': 'https://api.spotify.com/v1/albums/0coVTwj8xht3SmyIjkdkkx', 'id': '0coVTwj8xht3SmyIjkdkkx', 'images': [{'height': 640, 'url': 'https://i.scdn.co/image/ab67616d0000b2730bae9455b021575abfa49831', 'width': 640}, {'height': 300, 'url': 'https://i.scdn.co/image/ab67616d00001e020bae9455b021575abfa49831', 'width': 300}, {'height': 64, 'url': 'https://i.scdn.co/image/ab67616d000048510bae9455b021575abfa49831', 'width': 64}], 'name': 'Roblox 3008, Vol. 1 (Original Soundtrack)', 'release_date': '2020-09-03', 'release_date_precision': 'day', 'total_tracks': 11, 'type': 'album', 'uri': 'spotify:album:0coVTwj8xht3SmyIjkdkkx'}, 'artists': [{'external_urls': {'spotify': 'https://open.spotify.com/artist/64JnTLWu6BRluLTlgge3FB'}, 'href': 'https://api.spotify.com/v1/artists/64JnTLWu6BRluLTlgge3FB', 'id': '64JnTLWu6BRluLTlgge3FB', 'name': 'Uglyburger0', 'type': 'artist', 'uri': 'spotify:artist:64JnTLWu6BRluLTlgge3FB'}], 'available_markets': ['AR', 'AU', 'AT', 'BE', 'BO', 'BR', 'BG', 'CA', 'CL', 'CO', 'CR', 'CY', 'CZ', 'DK', 'DO', 'DE', 'EC', 'EE', 'SV', 'FI', 'FR', 'GR', 'GT', 'HN', 'HK', 'HU', 'IS', 'IE', 'IT', 'LV', 'LT', 'LU', 'MY', 'MT', 'MX', 'NL', 'NZ', 'NI', 'NO', 'PA', 'PY', 'PE', 'PH', 'PL', 'PT', 'SG', 'SK', 'ES', 'SE', 'CH', 'TW', 'TR', 'UY', 'US', 'GB', 'AD', 'LI', 'MC', 'ID', 'JP', 'TH', 'VN', 'RO', 'IL', 'ZA', 'SA', 'AE', 'BH', 'QA', 'OM', 'KW', 'EG', 'MA', 'DZ', 'TN', 'LB', 'JO', 'PS', 'IN', 'BY', 'KZ', 'MD', 'UA', 'AL', 'BA', 'HR', 'ME', 'MK', 'RS', 'SI', 'KR', 'BD', 'PK', 'LK', 'GH', 'KE', 'NG', 'TZ', 'UG', 'AG', 'AM', 'BS', 'BB', 'BZ', 'BT', 'BW', 'BF', 'CV', 'CW', 'DM', 'FJ', 'GM', 'GE', 'GD', 'GW', 'GY', 'HT', 'JM', 'KI', 'LS', 'LR', 'MW', 'MV', 'ML', 'MH', 'FM', 'NA', 'NR', 'NE', 'PW', 'PG', 'PR', 'WS', 'SM', 'ST', 'SN', 'SC', 'SL', 'SB', 'KN', 'LC', 'VC', 'SR', 'TL', 'TO', 'TT', 'TV', 'VU', 'AZ', 'BN', 'BI', 'KH', 'CM', 'TD', 'KM', 'GQ', 'SZ', 'GA', 'GN', 'KG', 'LA', 'MO', 'MR', 'MN', 'NP', 'RW', 'TG', 'UZ', 'ZW', 'BJ', 'MG', 'MU', 'MZ', 'AO', 'CI', 'DJ', 'ZM', 'CD', 'CG', 'IQ', 'LY', 'TJ', 'VE', 'ET', 'XK'], 'disc_number': 1, 'duration_ms': 81711, 'explicit': False, 'external_ids': {'isrc': 'QZK6K2056434'}, 'external_urls': {'spotify': 'https://open.spotify.com/track/0b3F6hAcrjp4q8BFeYXDsh'}, 'href': 'https://api.spotify.com/v1/tracks/0b3F6hAcrjp4q8BFeYXDsh', 'id': '0b3F6hAcrjp4q8BFeYXDsh', 'is_local': False, 'name': 'Monday Theme', 'popularity': 50, 'preview_url': 'https://p.scdn.co/mp3-preview/fb30e9d8a4c22bfdef4e9fe9f51a344f61f7391b?cid=c21cede122dd4c1780e8f92025cd210f', 'track_number': 1, 'type': 'track', 'uri': 'spotify:track:0b3F6hAcrjp4q8BFeYXDsh'}, {'album': {'album_type': 'single', 'artists': [{'external_urls': {'spotify': 'https://open.spotify.com/artist/24D9ijv0UhdpmCZ4XV0nFb'}, 'href': 'https://api.spotify.com/v1/artists/24D9ijv0UhdpmCZ4XV0nFb', 'id': '24D9ijv0UhdpmCZ4XV0nFb', 'name': 'Club Unicorn', 'type': 'artist', 'uri': 'spotify:artist:24D9ijv0UhdpmCZ4XV0nFb'}], 'available_markets': ['AR', 'AU', 'AT', 'BE', 'BO', 'BR', 'BG', 'CA', 'CL', 'CO', 'CR', 'CY', 'CZ', 'DK', 'DO', 'DE', 'EC', 'EE', 'SV', 'FI', 'FR', 'GR', 'GT', 'HN', 'HK', 'HU', 'IS', 'IE', 'IT', 'LV', 'LT', 'LU', 'MY', 'MT', 'MX', 'NL', 'NZ', 'NI', 'NO', 'PA', 'PY', 'PE', 'PH', 'PL', 'PT', 'SG', 'SK', 'ES', 'SE', 'CH', 'TW', 'TR', 'UY', 'US', 'GB', 'AD', 'LI', 'MC', 'ID', 'JP', 'TH', 'VN', 'RO', 'IL', 'ZA', 'SA', 'AE', 'BH', 'QA', 'OM', 'KW', 'EG', 'MA', 'DZ', 'TN', 'LB', 'JO', 'PS', 'IN', 'BY', 'KZ', 'MD', 'UA', 'AL', 'BA', 'HR', 'ME', 'MK', 'RS', 'SI', 'KR', 'BD', 'PK', 'LK', 'GH', 'KE', 'NG', 'TZ', 'UG', 'AG', 'AM', 'BS', 'BB', 'BZ', 'BT', 'BW', 'BF', 'CV', 'CW', 'DM', 'FJ', 'GM', 'GE', 'GD', 'GW', 'GY', 'HT', 'JM', 'KI', 'LS', 'LR', 'MW', 'MV', 'ML', 'MH', 'FM', 'NA', 'NR', 'NE', 'PW', 'PG', 'PR', 'WS', 'SM', 'ST', 'SN', 'SC', 'SL', 'SB', 'KN', 'LC', 'VC', 'SR', 'TL', 'TO', 'TT', 'TV', 'VU', 'AZ', 'BN', 'BI', 'KH', 'CM', 'TD', 'KM', 'GQ', 'SZ', 'GA', 'GN', 'KG', 'LA', 'MO', 'MR', 'MN', 'NP', 'RW', 'TG', 'UZ', 'ZW', 'BJ', 'MG', 'MU', 'MZ', 'AO', 'CI', 'DJ', 'ZM', 'CD', 'CG', 'IQ', 'LY', 'TJ', 'VE', 'ET', 'XK'], 'external_urls': {'spotify': 'https://open.spotify.com/album/1VErrzileLe1XIP2POlydd'}, 'href': 'https://api.spotify.com/v1/albums/1VErrzileLe1XIP2POlydd', 'id': '1VErrzileLe1XIP2POlydd', 'images': [{'height': 640, 'url': 'https://i.scdn.co/image/ab67616d0000b2738008aef73c1e831e780302cc', 'width': 640}, {'height': 300, 'url': 'https://i.scdn.co/image/ab67616d00001e028008aef73c1e831e780302cc', 'width': 300}, {'height': 64, 'url': 'https://i.scdn.co/image/ab67616d000048518008aef73c1e831e780302cc', 'width': 64}], 'name': 'Adopt Me! Night Theme', 'release_date': '2024-07-08', 'release_date_precision': 'day', 'total_tracks': 1, 'type': 'album', 'uri': 'spotify:album:1VErrzileLe1XIP2POlydd'}, 'artists': [{'external_urls': {'spotify': 'https://open.spotify.com/artist/24D9ijv0UhdpmCZ4XV0nFb'}, 'href': 'https://api.spotify.com/v1/artists/24D9ijv0UhdpmCZ4XV0nFb', 'id': '24D9ijv0UhdpmCZ4XV0nFb', 'name': 'Club Unicorn', 'type': 'artist', 'uri': 'spotify:artist:24D9ijv0UhdpmCZ4XV0nFb'}], 'available_markets': ['AR', 'AU', 'AT', 'BE', 'BO', 'BR', 'BG', 'CA', 'CL', 'CO', 'CR', 'CY', 'CZ', 'DK', 'DO', 'DE', 'EC', 'EE', 'SV', 'FI', 'FR', 'GR', 'GT', 'HN', 'HK', 'HU', 'IS', 'IE', 'IT', 'LV', 'LT', 'LU', 'MY', 'MT', 'MX', 'NL', 'NZ', 'NI', 'NO', 'PA', 'PY', 'PE', 'PH', 'PL', 'PT', 'SG', 'SK', 'ES', 'SE', 'CH', 'TW', 'TR', 'UY', 'US', 'GB', 'AD', 'LI', 'MC', 'ID', 'JP', 'TH', 'VN', 'RO', 'IL', 'ZA', 'SA', 'AE', 'BH', 'QA', 'OM', 'KW', 'EG', 'MA', 'DZ', 'TN', 'LB', 'JO', 'PS', 'IN', 'BY', 'KZ', 'MD', 'UA', 'AL', 'BA', 'HR', 'ME', 'MK', 'RS', 'SI', 'KR', 'BD', 'PK', 'LK', 'GH', 'KE', 'NG', 'TZ', 'UG', 'AG', 'AM', 'BS', 'BB', 'BZ', 'BT', 'BW', 'BF', 'CV', 'CW', 'DM', 'FJ', 'GM', 'GE', 'GD', 'GW', 'GY', 'HT', 'JM', 'KI', 'LS', 'LR', 'MW', 'MV', 'ML', 'MH', 'FM', 'NA', 'NR', 'NE', 'PW', 'PG', 'PR', 'WS', 'SM', 'ST', 'SN', 'SC', 'SL', 'SB', 'KN', 'LC', 'VC', 'SR', 'TL', 'TO', 'TT', 'TV', 'VU', 'AZ', 'BN', 'BI', 'KH', 'CM', 'TD', 'KM', 'GQ', 'SZ', 'GA', 'GN', 'KG', 'LA', 'MO', 'MR', 'MN', 'NP', 'RW', 'TG', 'UZ', 'ZW', 'BJ', 'MG', 'MU', 'MZ', 'AO', 'CI', 'DJ', 'ZM', 'CD', 'CG', 'IQ', 'LY', 'TJ', 'VE', 'ET', 'XK'], 'disc_number': 1, 'duration_ms': 105000, 'explicit': False, 'external_ids': {'isrc': 'USHM92403866'}, 'external_urls': {'spotify': 'https://open.spotify.com/track/65teQkShZjNXicJfTp0bi0'}, 'href': 'https://api.spotify.com/v1/tracks/65teQkShZjNXicJfTp0bi0', 'id': '65teQkShZjNXicJfTp0bi0', 'is_local': False, 'name': 'Adopt Me! Night Theme', 'popularity': 29, 'preview_url': 'https://p.scdn.co/mp3-preview/90a918082f829849fbd3f1283f130bf99d37b9f1?cid=c21cede122dd4c1780e8f92025cd210f', 'track_number': 1, 'type': 'track', 'uri': 'spotify:track:65teQkShZjNXicJfTp0bi0'}], 'limit': 10, 'next': 'https://api.spotify.com/v1/search?query=Roblox&type=track&offset=10&limit=10', 'offset': 0, 'previous': None, 'total': 901}}\n"
     ]
    }
   ],
   "source": [
    "# Search Spotify based on the Robloxians Username\n",
    "track_results = sp.search(q=desired_user[\"name\"], type=\"track\", limit = 10)\n",
    "print(track_results)"
   ]
  },
  {
   "cell_type": "code",
   "execution_count": null,
   "metadata": {},
   "outputs": [
    {
     "data": {
      "text/html": [
       "<div>\n",
       "<style scoped>\n",
       "    .dataframe tbody tr th:only-of-type {\n",
       "        vertical-align: middle;\n",
       "    }\n",
       "\n",
       "    .dataframe tbody tr th {\n",
       "        vertical-align: top;\n",
       "    }\n",
       "\n",
       "    .dataframe thead th {\n",
       "        text-align: right;\n",
       "    }\n",
       "</style>\n",
       "<table border=\"1\" class=\"dataframe\">\n",
       "  <thead>\n",
       "    <tr style=\"text-align: right;\">\n",
       "      <th></th>\n",
       "      <th>song</th>\n",
       "      <th>artists</th>\n",
       "    </tr>\n",
       "  </thead>\n",
       "  <tbody>\n",
       "    <tr>\n",
       "      <th>0</th>\n",
       "      <td>Don't Call Me a Noob</td>\n",
       "      <td>Mr Miln</td>\n",
       "    </tr>\n",
       "    <tr>\n",
       "      <th>1</th>\n",
       "      <td>Skibidi Toilet</td>\n",
       "      <td>Lil Big Stack</td>\n",
       "    </tr>\n",
       "    <tr>\n",
       "      <th>2</th>\n",
       "      <td>Slaying in Roblox</td>\n",
       "      <td>Loginhdi</td>\n",
       "    </tr>\n",
       "    <tr>\n",
       "      <th>3</th>\n",
       "      <td>The Roblox Song</td>\n",
       "      <td>Lankybox</td>\n",
       "    </tr>\n",
       "    <tr>\n",
       "      <th>4</th>\n",
       "      <td>Roblox NEW DEATH SOUND Song</td>\n",
       "      <td>Misutra</td>\n",
       "    </tr>\n",
       "    <tr>\n",
       "      <th>5</th>\n",
       "      <td>Robloxian Struggles (Playing Without Robux)</td>\n",
       "      <td>Mr Miln</td>\n",
       "    </tr>\n",
       "    <tr>\n",
       "      <th>6</th>\n",
       "      <td>Relaxed Scene</td>\n",
       "      <td>James Clarke</td>\n",
       "    </tr>\n",
       "    <tr>\n",
       "      <th>7</th>\n",
       "      <td>Friday Theme</td>\n",
       "      <td>Uglyburger0</td>\n",
       "    </tr>\n",
       "    <tr>\n",
       "      <th>8</th>\n",
       "      <td>Monday Theme</td>\n",
       "      <td>Uglyburger0</td>\n",
       "    </tr>\n",
       "    <tr>\n",
       "      <th>9</th>\n",
       "      <td>Adopt Me! Night Theme</td>\n",
       "      <td>Club Unicorn</td>\n",
       "    </tr>\n",
       "  </tbody>\n",
       "</table>\n",
       "</div>"
      ],
      "text/plain": [
       "                                          song        artists\n",
       "0                         Don't Call Me a Noob        Mr Miln\n",
       "1                               Skibidi Toilet  Lil Big Stack\n",
       "2                            Slaying in Roblox       Loginhdi\n",
       "3                              The Roblox Song       Lankybox\n",
       "4                  Roblox NEW DEATH SOUND Song        Misutra\n",
       "5  Robloxian Struggles (Playing Without Robux)        Mr Miln\n",
       "6                                Relaxed Scene   James Clarke\n",
       "7                                 Friday Theme    Uglyburger0\n",
       "8                                 Monday Theme    Uglyburger0\n",
       "9                        Adopt Me! Night Theme   Club Unicorn"
      ]
     },
     "execution_count": 17,
     "metadata": {},
     "output_type": "execute_result"
    }
   ],
   "source": [
    "# function to clean dataframe in spotify_functions.py - takes in track results, clean into a nice dataframe\n",
    "clean_spotify_df = spotify_functions.spotify_tracks_to_df(track_results)\n",
    "clean_spotify_df"
   ]
  },
  {
   "cell_type": "markdown",
   "metadata": {},
   "source": [
    "## Code to Parse Roblox Lua"
   ]
  },
  {
   "cell_type": "code",
   "execution_count": null,
   "metadata": {},
   "outputs": [
    {
     "data": {
      "text/plain": [
       "['lua_scripts\\\\display_script.lua',\n",
       " 'lua_scripts\\\\parameter_classes.lua',\n",
       " 'lua_scripts\\\\ui_script.lua']"
      ]
     },
     "execution_count": 18,
     "metadata": {},
     "output_type": "execute_result"
    }
   ],
   "source": [
    "import glob\n",
    "\n",
    "# get all lua paths\n",
    "directory = 'lua_scripts/*'\n",
    "\n",
    "lua_file_paths = glob.glob(directory)\n",
    "lua_file_paths\n"
   ]
  },
  {
   "cell_type": "code",
   "execution_count": null,
   "metadata": {},
   "outputs": [
    {
     "name": "stdout",
     "output_type": "stream",
     "text": [
      "Matched artist: Artist 1, song: Song 1\n",
      "Matched artist: Artist 2, song: Song 2\n",
      "Matched artist: Artist 3, song: Song 3\n",
      "Matched artist: Artist 4, song: Song 4\n",
      "Matched artist: Artist 5, song: Song 5\n",
      "Matched artist: Artist 6, song: Song 6\n",
      "Matched artist: Artist 7, song: Song 7\n",
      "Matched artist: Artist 8, song: Song 8\n",
      "Matched artist: Artist 9, song: Song 9\n",
      "Matched artist: Artist 10, song: Song 10\n",
      "\n",
      "Modified Text:\n",
      "\n",
      "-- ParameterStart\n",
      "local data = {\n",
      "\t{artist = \"Mr Miln\", song = \"Don't Call Me a Noob\"},\n",
      "\t{artist = \"Lil Big Stack\", song = \"Skibidi Toilet\"},\n",
      "\t{artist = \"Loginhdi\", song = \"Slaying in Roblox\"},\n",
      "\t{artist = \"Lankybox\", song = \"The Roblox Song\"},\n",
      "\t{artist = \"Misutra\", song = \"Roblox NEW DEATH SOUND Song\"},\n",
      "\t{artist = \"Mr Miln\", song = \"Robloxian Struggles (Playing Without Robux)\"},\n",
      "\t{artist = \"James Clarke\", song = \"Relaxed Scene\"},\n",
      "\t{artist = \"Uglyburger0\", song = \"Friday Theme\"},\n",
      "\t{artist = \"Uglyburger0\", song = \"Monday Theme\"},\n",
      "\t{artist = \"Club Unicorn\", song = \"Adopt Me! Night Theme\"},\n",
      "}\n",
      "-- ParameterEnd\n"
     ]
    }
   ],
   "source": [
    "import re\n",
    "# can move this to script file but leaving it hear for you to see regex\n",
    "\n",
    "def sub_song_artist_lua(clean_spotify_df, lua_param_file_path):\n",
    "    \"\"\"Takes in spotify clean dataframe and lua parameter file,\n",
    "    return substituted code using regex \"\"\"\n",
    "\n",
    "    # Read the Lua script from the file\n",
    "    file_path = lua_param_file_path\n",
    "    with open(file_path, 'r') as file:\n",
    "        lua_script = file.read()\n",
    "\n",
    "    text = lua_script\n",
    "\n",
    "    # Regex pattern to match all song entries - artists = and song =\n",
    "    pattern = r'{artist = \"([^\"]+)\", song = \"([^\"]+)\"}'\n",
    "\n",
    "    # Find all matches\n",
    "    matches = list(re.finditer(pattern, text))\n",
    "\n",
    "    # Substitute each match one by one\n",
    "    for i,match in enumerate(matches):\n",
    "        artist, song = match.groups()\n",
    "        print(f\"Matched artist: {artist}, song: {song}\")\n",
    "        \n",
    "        # Modify text: replace current match with a custom substitution\n",
    "        text = re.sub(re.escape(match.group(0)), f'{{artist = \"{clean_spotify_df['artists'][i]}\", song = \"{clean_spotify_df['song'][i]}\"}}', text, count=1)\n",
    "\n",
    "    print(\"\\nModified Text:\\n\")\n",
    "    print(text)\n",
    "\n",
    "    return text\n",
    "\n",
    "def read_lua(file_path):\n",
    "    # Read the Lua script from the file\n",
    "    with open(file_path, 'r') as file:\n",
    "        lua_script = file.read()\n",
    "\n",
    "    text = lua_script\n",
    "\n",
    "    return text\n",
    "\n",
    "\n",
    "\n"
   ]
  },
  {
   "cell_type": "code",
   "execution_count": null,
   "metadata": {},
   "outputs": [],
   "source": [
    "# call function to substitute parameters in lua template with new spotify song and artist names\n",
    "sub_params_lua_str = sub_song_artist_lua(clean_spotify_df,'lua_scripts\\\\parameter_classes.lua')\n",
    "display_script_lua = read_lua('lua_scripts\\\\display_script.lua')\n",
    "ui_script_lua = read_lua('lua_scripts\\\\ui_script.lua')\n",
    "\n",
    "# Add to other scripts to make complete script, \\n required to keep lua formatting\n",
    "complete_display_script_lua = sub_params_lua_str+\"\\n\"+display_script_lua\n",
    "complete_ui_script_lua = sub_params_lua_str+\"\\n\"+ui_script_lua\n"
   ]
  }
 ],
 "metadata": {
  "kernelspec": {
   "display_name": "roblox_env",
   "language": "python",
   "name": "python3"
  },
  "language_info": {
   "codemirror_mode": {
    "name": "ipython",
    "version": 3
   },
   "file_extension": ".py",
   "mimetype": "text/x-python",
   "name": "python",
   "nbconvert_exporter": "python",
   "pygments_lexer": "ipython3",
   "version": "3.12.7"
  }
 },
 "nbformat": 4,
 "nbformat_minor": 2
}
